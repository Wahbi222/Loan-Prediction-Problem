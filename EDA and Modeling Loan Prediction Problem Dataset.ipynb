{
 "cells": [
  {
   "cell_type": "markdown",
   "id": "aea8d695",
   "metadata": {},
   "source": [
    "# Loan Prediction Problem Dataset"
   ]
  },
  {
   "cell_type": "markdown",
   "id": "ebadd6af",
   "metadata": {},
   "source": [
    "- Prepared by Souha Cherif and Ouahbi Haj Kacem\n",
    "\n",
    "- Dataset: https://www.kaggle.com/datasets/altruistdelhite04/loan-prediction-problem-dataset"
   ]
  },
  {
   "cell_type": "markdown",
   "id": "52f303ef",
   "metadata": {},
   "source": [
    "### Loan Approval Prediction Using Machine Learning"
   ]
  },
  {
   "cell_type": "markdown",
   "id": "b684b7f1",
   "metadata": {},
   "source": [
    "- In this Notebook, we are going to solve the Loan Approval Prediction. This is a classification problem in which we need to classify whether the loan will be approved or not. Classification refers to a predictive modeling problem where a class label is predicted for a given example of input data. A few examples of classification problems are Spam Email detection, Cancer detection, Sentiment Analysis, etc."
   ]
  },
  {
   "cell_type": "markdown",
   "id": "c01f0239",
   "metadata": {},
   "source": [
    "### Understanding the Problem Statement"
   ]
  },
  {
   "cell_type": "markdown",
   "id": "e9a9aa33",
   "metadata": {},
   "source": [
    "- A loan is a bank's main source of revenue. The profits earned through loans account for most of the bank's profits. Even though the bank accepts the loan following a lengthy verification and testimony process, there is no guarantee that the chosen candidate is the right one. When done manually, this operation takes a long time. We can predict whether a given hopeful is safe or not, and the entire testimonial process is automated using machine literacy. Loan Prognostic is beneficial to both bank retainers and hopefuls.\n",
    "\n",
    "\n",
    "- The Bank wants to automate the loan eligibility process (real-time) based on customer detail provided while filling out online application forms. These details are Gender, Marital Status, Education, number of Dependents, Income, Loan Amount, Credit History, and others.\n",
    "\n",
    "\n",
    "- To automate this process, they have provided a dataset to identify the customer segments that are eligible for loan amounts so that they can specifically target these customers.\n",
    "\n",
    "\n",
    "- As mentioned above this is a Binary Classification problem in which we need to predict our Target label which is “Loan Status”.\n",
    "\n",
    "\n",
    "- Loan status can have two values: Yes or No.\n",
    "\n",
    " - Yes: if the loan is approved\n",
    " - No: if the loan is not approved"
   ]
  },
  {
   "cell_type": "markdown",
   "id": "f8b59958",
   "metadata": {},
   "source": [
    "### Loading Essential Python Libraries"
   ]
  },
  {
   "cell_type": "code",
   "execution_count": 1,
   "id": "1c766f45",
   "metadata": {},
   "outputs": [],
   "source": [
    "import pandas as pd\n",
    "import seaborn as sns\n",
    "import matplotlib.pyplot as plt\n",
    "import numpy as np\n",
    "from mpl_toolkits.mplot3d import Axes3D\n",
    "from sklearn.preprocessing import StandardScaler\n",
    "import matplotlib.pyplot as plt \n",
    "from sklearn.preprocessing import OrdinalEncoder\n",
    "\n",
    "import scipy.stats as ss\n",
    "from scipy import stats \n",
    "from scipy.stats import skew, boxcox_normmax, norm\n",
    "from scipy.stats import chi2_contingency\n",
    "\n",
    "import warnings\n",
    "warnings.filterwarnings(\"ignore\")"
   ]
  },
  {
   "cell_type": "markdown",
   "id": "2dc076df",
   "metadata": {},
   "source": [
    "### Loading the train dataset"
   ]
  },
  {
   "cell_type": "code",
   "execution_count": 2,
   "id": "f4be2114",
   "metadata": {},
   "outputs": [],
   "source": [
    "train = pd.read_csv(\"C:\\\\Users\\\\wahby\\\\Desktop\\\\loan-prediction-problem-dataset\\\\train.csv\")"
   ]
  },
  {
   "cell_type": "markdown",
   "id": "eee9642f",
   "metadata": {},
   "source": [
    "### Loading the test dataset"
   ]
  },
  {
   "cell_type": "code",
   "execution_count": 3,
   "id": "891026a6",
   "metadata": {},
   "outputs": [],
   "source": [
    "test = pd.read_csv(\"C:\\\\Users\\\\wahby\\\\Desktop\\\\loan-prediction-problem-dataset\\\\test.csv\")"
   ]
  },
  {
   "cell_type": "markdown",
   "id": "0b1302d9",
   "metadata": {},
   "source": [
    "## Exploratory Data Analysis (EDA) & Data-Preprocessing "
   ]
  },
  {
   "cell_type": "markdown",
   "id": "81bc7f5f",
   "metadata": {},
   "source": [
    "##### Understanding the Dataset "
   ]
  },
  {
   "cell_type": "code",
   "execution_count": 4,
   "id": "43a7f37d",
   "metadata": {},
   "outputs": [
    {
     "data": {
      "text/plain": [
       "(614, 13)"
      ]
     },
     "execution_count": 4,
     "metadata": {},
     "output_type": "execute_result"
    }
   ],
   "source": [
    "# Size of Train Data\n",
    "train.shape"
   ]
  },
  {
   "cell_type": "markdown",
   "id": "41fe002e",
   "metadata": {},
   "source": [
    "- We have 614 rows and 13 columns in our training dataset."
   ]
  },
  {
   "cell_type": "code",
   "execution_count": 5,
   "id": "bbf4723c",
   "metadata": {},
   "outputs": [
    {
     "data": {
      "text/plain": [
       "(367, 12)"
      ]
     },
     "execution_count": 5,
     "metadata": {},
     "output_type": "execute_result"
    }
   ],
   "source": [
    "# Size of Test Data\n",
    "test.shape"
   ]
  },
  {
   "cell_type": "markdown",
   "id": "4fa93dd7",
   "metadata": {},
   "source": [
    "- In test data, we have 367 rows and 12 columns because the target column is not included in the test data."
   ]
  },
  {
   "cell_type": "code",
   "execution_count": 6,
   "id": "99b22d27",
   "metadata": {},
   "outputs": [
    {
     "data": {
      "text/html": [
       "<div>\n",
       "<style scoped>\n",
       "    .dataframe tbody tr th:only-of-type {\n",
       "        vertical-align: middle;\n",
       "    }\n",
       "\n",
       "    .dataframe tbody tr th {\n",
       "        vertical-align: top;\n",
       "    }\n",
       "\n",
       "    .dataframe thead th {\n",
       "        text-align: right;\n",
       "    }\n",
       "</style>\n",
       "<table border=\"1\" class=\"dataframe\">\n",
       "  <thead>\n",
       "    <tr style=\"text-align: right;\">\n",
       "      <th></th>\n",
       "      <th>Loan_ID</th>\n",
       "      <th>Gender</th>\n",
       "      <th>Married</th>\n",
       "      <th>Dependents</th>\n",
       "      <th>Education</th>\n",
       "      <th>Self_Employed</th>\n",
       "      <th>ApplicantIncome</th>\n",
       "      <th>CoapplicantIncome</th>\n",
       "      <th>LoanAmount</th>\n",
       "      <th>Loan_Amount_Term</th>\n",
       "      <th>Credit_History</th>\n",
       "      <th>Property_Area</th>\n",
       "      <th>Loan_Status</th>\n",
       "    </tr>\n",
       "  </thead>\n",
       "  <tbody>\n",
       "    <tr>\n",
       "      <th>0</th>\n",
       "      <td>LP001002</td>\n",
       "      <td>Male</td>\n",
       "      <td>No</td>\n",
       "      <td>0</td>\n",
       "      <td>Graduate</td>\n",
       "      <td>No</td>\n",
       "      <td>5849</td>\n",
       "      <td>0.0</td>\n",
       "      <td>NaN</td>\n",
       "      <td>360.0</td>\n",
       "      <td>1.0</td>\n",
       "      <td>Urban</td>\n",
       "      <td>Y</td>\n",
       "    </tr>\n",
       "    <tr>\n",
       "      <th>1</th>\n",
       "      <td>LP001003</td>\n",
       "      <td>Male</td>\n",
       "      <td>Yes</td>\n",
       "      <td>1</td>\n",
       "      <td>Graduate</td>\n",
       "      <td>No</td>\n",
       "      <td>4583</td>\n",
       "      <td>1508.0</td>\n",
       "      <td>128.0</td>\n",
       "      <td>360.0</td>\n",
       "      <td>1.0</td>\n",
       "      <td>Rural</td>\n",
       "      <td>N</td>\n",
       "    </tr>\n",
       "    <tr>\n",
       "      <th>2</th>\n",
       "      <td>LP001005</td>\n",
       "      <td>Male</td>\n",
       "      <td>Yes</td>\n",
       "      <td>0</td>\n",
       "      <td>Graduate</td>\n",
       "      <td>Yes</td>\n",
       "      <td>3000</td>\n",
       "      <td>0.0</td>\n",
       "      <td>66.0</td>\n",
       "      <td>360.0</td>\n",
       "      <td>1.0</td>\n",
       "      <td>Urban</td>\n",
       "      <td>Y</td>\n",
       "    </tr>\n",
       "    <tr>\n",
       "      <th>3</th>\n",
       "      <td>LP001006</td>\n",
       "      <td>Male</td>\n",
       "      <td>Yes</td>\n",
       "      <td>0</td>\n",
       "      <td>Not Graduate</td>\n",
       "      <td>No</td>\n",
       "      <td>2583</td>\n",
       "      <td>2358.0</td>\n",
       "      <td>120.0</td>\n",
       "      <td>360.0</td>\n",
       "      <td>1.0</td>\n",
       "      <td>Urban</td>\n",
       "      <td>Y</td>\n",
       "    </tr>\n",
       "    <tr>\n",
       "      <th>4</th>\n",
       "      <td>LP001008</td>\n",
       "      <td>Male</td>\n",
       "      <td>No</td>\n",
       "      <td>0</td>\n",
       "      <td>Graduate</td>\n",
       "      <td>No</td>\n",
       "      <td>6000</td>\n",
       "      <td>0.0</td>\n",
       "      <td>141.0</td>\n",
       "      <td>360.0</td>\n",
       "      <td>1.0</td>\n",
       "      <td>Urban</td>\n",
       "      <td>Y</td>\n",
       "    </tr>\n",
       "  </tbody>\n",
       "</table>\n",
       "</div>"
      ],
      "text/plain": [
       "    Loan_ID Gender Married Dependents     Education Self_Employed  \\\n",
       "0  LP001002   Male      No          0      Graduate            No   \n",
       "1  LP001003   Male     Yes          1      Graduate            No   \n",
       "2  LP001005   Male     Yes          0      Graduate           Yes   \n",
       "3  LP001006   Male     Yes          0  Not Graduate            No   \n",
       "4  LP001008   Male      No          0      Graduate            No   \n",
       "\n",
       "   ApplicantIncome  CoapplicantIncome  LoanAmount  Loan_Amount_Term  \\\n",
       "0             5849                0.0         NaN             360.0   \n",
       "1             4583             1508.0       128.0             360.0   \n",
       "2             3000                0.0        66.0             360.0   \n",
       "3             2583             2358.0       120.0             360.0   \n",
       "4             6000                0.0       141.0             360.0   \n",
       "\n",
       "   Credit_History Property_Area Loan_Status  \n",
       "0             1.0         Urban           Y  \n",
       "1             1.0         Rural           N  \n",
       "2             1.0         Urban           Y  \n",
       "3             1.0         Urban           Y  \n",
       "4             1.0         Urban           Y  "
      ]
     },
     "execution_count": 6,
     "metadata": {},
     "output_type": "execute_result"
    }
   ],
   "source": [
    "train.head()"
   ]
  },
  {
   "cell_type": "markdown",
   "id": "735c2701",
   "metadata": {},
   "source": [
    "- We can observe from the above top 5 entries that there are object and numeric data types in our dataset.        \n",
    "- There are null values in our data which needs to be handled before we start building our model.              \n",
    "- Loan Status is our target columns which needs to be predicted based on the remaining independent features of our data."
   ]
  },
  {
   "cell_type": "code",
   "execution_count": 7,
   "id": "5c5d4d6a",
   "metadata": {
    "scrolled": true
   },
   "outputs": [
    {
     "data": {
      "text/html": [
       "<div>\n",
       "<style scoped>\n",
       "    .dataframe tbody tr th:only-of-type {\n",
       "        vertical-align: middle;\n",
       "    }\n",
       "\n",
       "    .dataframe tbody tr th {\n",
       "        vertical-align: top;\n",
       "    }\n",
       "\n",
       "    .dataframe thead th {\n",
       "        text-align: right;\n",
       "    }\n",
       "</style>\n",
       "<table border=\"1\" class=\"dataframe\">\n",
       "  <thead>\n",
       "    <tr style=\"text-align: right;\">\n",
       "      <th></th>\n",
       "      <th>Loan_ID</th>\n",
       "      <th>Gender</th>\n",
       "      <th>Married</th>\n",
       "      <th>Dependents</th>\n",
       "      <th>Education</th>\n",
       "      <th>Self_Employed</th>\n",
       "      <th>ApplicantIncome</th>\n",
       "      <th>CoapplicantIncome</th>\n",
       "      <th>LoanAmount</th>\n",
       "      <th>Loan_Amount_Term</th>\n",
       "      <th>Credit_History</th>\n",
       "      <th>Property_Area</th>\n",
       "    </tr>\n",
       "  </thead>\n",
       "  <tbody>\n",
       "    <tr>\n",
       "      <th>0</th>\n",
       "      <td>LP001015</td>\n",
       "      <td>Male</td>\n",
       "      <td>Yes</td>\n",
       "      <td>0</td>\n",
       "      <td>Graduate</td>\n",
       "      <td>No</td>\n",
       "      <td>5720</td>\n",
       "      <td>0</td>\n",
       "      <td>110.0</td>\n",
       "      <td>360.0</td>\n",
       "      <td>1.0</td>\n",
       "      <td>Urban</td>\n",
       "    </tr>\n",
       "    <tr>\n",
       "      <th>1</th>\n",
       "      <td>LP001022</td>\n",
       "      <td>Male</td>\n",
       "      <td>Yes</td>\n",
       "      <td>1</td>\n",
       "      <td>Graduate</td>\n",
       "      <td>No</td>\n",
       "      <td>3076</td>\n",
       "      <td>1500</td>\n",
       "      <td>126.0</td>\n",
       "      <td>360.0</td>\n",
       "      <td>1.0</td>\n",
       "      <td>Urban</td>\n",
       "    </tr>\n",
       "    <tr>\n",
       "      <th>2</th>\n",
       "      <td>LP001031</td>\n",
       "      <td>Male</td>\n",
       "      <td>Yes</td>\n",
       "      <td>2</td>\n",
       "      <td>Graduate</td>\n",
       "      <td>No</td>\n",
       "      <td>5000</td>\n",
       "      <td>1800</td>\n",
       "      <td>208.0</td>\n",
       "      <td>360.0</td>\n",
       "      <td>1.0</td>\n",
       "      <td>Urban</td>\n",
       "    </tr>\n",
       "    <tr>\n",
       "      <th>3</th>\n",
       "      <td>LP001035</td>\n",
       "      <td>Male</td>\n",
       "      <td>Yes</td>\n",
       "      <td>2</td>\n",
       "      <td>Graduate</td>\n",
       "      <td>No</td>\n",
       "      <td>2340</td>\n",
       "      <td>2546</td>\n",
       "      <td>100.0</td>\n",
       "      <td>360.0</td>\n",
       "      <td>NaN</td>\n",
       "      <td>Urban</td>\n",
       "    </tr>\n",
       "    <tr>\n",
       "      <th>4</th>\n",
       "      <td>LP001051</td>\n",
       "      <td>Male</td>\n",
       "      <td>No</td>\n",
       "      <td>0</td>\n",
       "      <td>Not Graduate</td>\n",
       "      <td>No</td>\n",
       "      <td>3276</td>\n",
       "      <td>0</td>\n",
       "      <td>78.0</td>\n",
       "      <td>360.0</td>\n",
       "      <td>1.0</td>\n",
       "      <td>Urban</td>\n",
       "    </tr>\n",
       "  </tbody>\n",
       "</table>\n",
       "</div>"
      ],
      "text/plain": [
       "    Loan_ID Gender Married Dependents     Education Self_Employed  \\\n",
       "0  LP001015   Male     Yes          0      Graduate            No   \n",
       "1  LP001022   Male     Yes          1      Graduate            No   \n",
       "2  LP001031   Male     Yes          2      Graduate            No   \n",
       "3  LP001035   Male     Yes          2      Graduate            No   \n",
       "4  LP001051   Male      No          0  Not Graduate            No   \n",
       "\n",
       "   ApplicantIncome  CoapplicantIncome  LoanAmount  Loan_Amount_Term  \\\n",
       "0             5720                  0       110.0             360.0   \n",
       "1             3076               1500       126.0             360.0   \n",
       "2             5000               1800       208.0             360.0   \n",
       "3             2340               2546       100.0             360.0   \n",
       "4             3276                  0        78.0             360.0   \n",
       "\n",
       "   Credit_History Property_Area  \n",
       "0             1.0         Urban  \n",
       "1             1.0         Urban  \n",
       "2             1.0         Urban  \n",
       "3             NaN         Urban  \n",
       "4             1.0         Urban  "
      ]
     },
     "execution_count": 7,
     "metadata": {},
     "output_type": "execute_result"
    }
   ],
   "source": [
    "test.head()"
   ]
  },
  {
   "cell_type": "code",
   "execution_count": 8,
   "id": "acd1ce71",
   "metadata": {},
   "outputs": [
    {
     "name": "stdout",
     "output_type": "stream",
     "text": [
      "<class 'pandas.core.frame.DataFrame'>\n",
      "RangeIndex: 614 entries, 0 to 613\n",
      "Data columns (total 13 columns):\n",
      " #   Column             Non-Null Count  Dtype  \n",
      "---  ------             --------------  -----  \n",
      " 0   Loan_ID            614 non-null    object \n",
      " 1   Gender             601 non-null    object \n",
      " 2   Married            611 non-null    object \n",
      " 3   Dependents         599 non-null    object \n",
      " 4   Education          614 non-null    object \n",
      " 5   Self_Employed      582 non-null    object \n",
      " 6   ApplicantIncome    614 non-null    int64  \n",
      " 7   CoapplicantIncome  614 non-null    float64\n",
      " 8   LoanAmount         592 non-null    float64\n",
      " 9   Loan_Amount_Term   600 non-null    float64\n",
      " 10  Credit_History     564 non-null    float64\n",
      " 11  Property_Area      614 non-null    object \n",
      " 12  Loan_Status        614 non-null    object \n",
      "dtypes: float64(4), int64(1), object(8)\n",
      "memory usage: 62.5+ KB\n"
     ]
    }
   ],
   "source": [
    "# Getting informations about the data types, missing values and column names of the dataset.\n",
    "train.info()"
   ]
  },
  {
   "cell_type": "markdown",
   "id": "9e7132d5",
   "metadata": {},
   "source": [
    "- Above information reflects that our dataset has 5 numerical and 8 object columns.                   \n",
    "- There are null values in multiple columns which needs to be handled.                     \n",
    "- There are total 13 columns in our dataset with 614 entries. \n",
    "- There are missing values in some columns like Dependents, Gender, Self_Employed, etc"
   ]
  },
  {
   "cell_type": "code",
   "execution_count": 9,
   "id": "6f8f4baa",
   "metadata": {},
   "outputs": [
    {
     "data": {
      "text/plain": [
       "Index(['ApplicantIncome', 'CoapplicantIncome', 'LoanAmount',\n",
       "       'Loan_Amount_Term', 'Credit_History'],\n",
       "      dtype='object')"
      ]
     },
     "execution_count": 9,
     "metadata": {},
     "output_type": "execute_result"
    }
   ],
   "source": [
    "numerical_columns = train.dtypes[train.dtypes != 'object'].index\n",
    "numerical_columns"
   ]
  },
  {
   "cell_type": "code",
   "execution_count": 10,
   "id": "7b8405af",
   "metadata": {},
   "outputs": [
    {
     "data": {
      "text/plain": [
       "Index(['Loan_ID', 'Gender', 'Married', 'Dependents', 'Education',\n",
       "       'Self_Employed', 'Property_Area', 'Loan_Status'],\n",
       "      dtype='object')"
      ]
     },
     "execution_count": 10,
     "metadata": {},
     "output_type": "execute_result"
    }
   ],
   "source": [
    "categorical_columns = train.dtypes[train.dtypes == 'object'].index\n",
    "categorical_columns"
   ]
  },
  {
   "cell_type": "code",
   "execution_count": 11,
   "id": "a31b6a6d",
   "metadata": {
    "scrolled": false
   },
   "outputs": [
    {
     "data": {
      "text/html": [
       "<div>\n",
       "<style scoped>\n",
       "    .dataframe tbody tr th:only-of-type {\n",
       "        vertical-align: middle;\n",
       "    }\n",
       "\n",
       "    .dataframe tbody tr th {\n",
       "        vertical-align: top;\n",
       "    }\n",
       "\n",
       "    .dataframe thead th {\n",
       "        text-align: right;\n",
       "    }\n",
       "</style>\n",
       "<table border=\"1\" class=\"dataframe\">\n",
       "  <thead>\n",
       "    <tr style=\"text-align: right;\">\n",
       "      <th></th>\n",
       "      <th>count</th>\n",
       "      <th>unique</th>\n",
       "      <th>top</th>\n",
       "      <th>freq</th>\n",
       "      <th>mean</th>\n",
       "      <th>std</th>\n",
       "      <th>min</th>\n",
       "      <th>25%</th>\n",
       "      <th>50%</th>\n",
       "      <th>75%</th>\n",
       "      <th>max</th>\n",
       "    </tr>\n",
       "  </thead>\n",
       "  <tbody>\n",
       "    <tr>\n",
       "      <th>Loan_ID</th>\n",
       "      <td>614</td>\n",
       "      <td>614</td>\n",
       "      <td>LP001002</td>\n",
       "      <td>1</td>\n",
       "      <td>NaN</td>\n",
       "      <td>NaN</td>\n",
       "      <td>NaN</td>\n",
       "      <td>NaN</td>\n",
       "      <td>NaN</td>\n",
       "      <td>NaN</td>\n",
       "      <td>NaN</td>\n",
       "    </tr>\n",
       "    <tr>\n",
       "      <th>Gender</th>\n",
       "      <td>601</td>\n",
       "      <td>2</td>\n",
       "      <td>Male</td>\n",
       "      <td>489</td>\n",
       "      <td>NaN</td>\n",
       "      <td>NaN</td>\n",
       "      <td>NaN</td>\n",
       "      <td>NaN</td>\n",
       "      <td>NaN</td>\n",
       "      <td>NaN</td>\n",
       "      <td>NaN</td>\n",
       "    </tr>\n",
       "    <tr>\n",
       "      <th>Married</th>\n",
       "      <td>611</td>\n",
       "      <td>2</td>\n",
       "      <td>Yes</td>\n",
       "      <td>398</td>\n",
       "      <td>NaN</td>\n",
       "      <td>NaN</td>\n",
       "      <td>NaN</td>\n",
       "      <td>NaN</td>\n",
       "      <td>NaN</td>\n",
       "      <td>NaN</td>\n",
       "      <td>NaN</td>\n",
       "    </tr>\n",
       "    <tr>\n",
       "      <th>Dependents</th>\n",
       "      <td>599</td>\n",
       "      <td>4</td>\n",
       "      <td>0</td>\n",
       "      <td>345</td>\n",
       "      <td>NaN</td>\n",
       "      <td>NaN</td>\n",
       "      <td>NaN</td>\n",
       "      <td>NaN</td>\n",
       "      <td>NaN</td>\n",
       "      <td>NaN</td>\n",
       "      <td>NaN</td>\n",
       "    </tr>\n",
       "    <tr>\n",
       "      <th>Education</th>\n",
       "      <td>614</td>\n",
       "      <td>2</td>\n",
       "      <td>Graduate</td>\n",
       "      <td>480</td>\n",
       "      <td>NaN</td>\n",
       "      <td>NaN</td>\n",
       "      <td>NaN</td>\n",
       "      <td>NaN</td>\n",
       "      <td>NaN</td>\n",
       "      <td>NaN</td>\n",
       "      <td>NaN</td>\n",
       "    </tr>\n",
       "    <tr>\n",
       "      <th>Self_Employed</th>\n",
       "      <td>582</td>\n",
       "      <td>2</td>\n",
       "      <td>No</td>\n",
       "      <td>500</td>\n",
       "      <td>NaN</td>\n",
       "      <td>NaN</td>\n",
       "      <td>NaN</td>\n",
       "      <td>NaN</td>\n",
       "      <td>NaN</td>\n",
       "      <td>NaN</td>\n",
       "      <td>NaN</td>\n",
       "    </tr>\n",
       "    <tr>\n",
       "      <th>ApplicantIncome</th>\n",
       "      <td>614.0</td>\n",
       "      <td>NaN</td>\n",
       "      <td>NaN</td>\n",
       "      <td>NaN</td>\n",
       "      <td>5403.459283</td>\n",
       "      <td>6109.041673</td>\n",
       "      <td>150.0</td>\n",
       "      <td>2877.5</td>\n",
       "      <td>3812.5</td>\n",
       "      <td>5795.0</td>\n",
       "      <td>81000.0</td>\n",
       "    </tr>\n",
       "    <tr>\n",
       "      <th>CoapplicantIncome</th>\n",
       "      <td>614.0</td>\n",
       "      <td>NaN</td>\n",
       "      <td>NaN</td>\n",
       "      <td>NaN</td>\n",
       "      <td>1621.245798</td>\n",
       "      <td>2926.248369</td>\n",
       "      <td>0.0</td>\n",
       "      <td>0.0</td>\n",
       "      <td>1188.5</td>\n",
       "      <td>2297.25</td>\n",
       "      <td>41667.0</td>\n",
       "    </tr>\n",
       "    <tr>\n",
       "      <th>LoanAmount</th>\n",
       "      <td>592.0</td>\n",
       "      <td>NaN</td>\n",
       "      <td>NaN</td>\n",
       "      <td>NaN</td>\n",
       "      <td>146.412162</td>\n",
       "      <td>85.587325</td>\n",
       "      <td>9.0</td>\n",
       "      <td>100.0</td>\n",
       "      <td>128.0</td>\n",
       "      <td>168.0</td>\n",
       "      <td>700.0</td>\n",
       "    </tr>\n",
       "    <tr>\n",
       "      <th>Loan_Amount_Term</th>\n",
       "      <td>600.0</td>\n",
       "      <td>NaN</td>\n",
       "      <td>NaN</td>\n",
       "      <td>NaN</td>\n",
       "      <td>342.0</td>\n",
       "      <td>65.12041</td>\n",
       "      <td>12.0</td>\n",
       "      <td>360.0</td>\n",
       "      <td>360.0</td>\n",
       "      <td>360.0</td>\n",
       "      <td>480.0</td>\n",
       "    </tr>\n",
       "    <tr>\n",
       "      <th>Credit_History</th>\n",
       "      <td>564.0</td>\n",
       "      <td>NaN</td>\n",
       "      <td>NaN</td>\n",
       "      <td>NaN</td>\n",
       "      <td>0.842199</td>\n",
       "      <td>0.364878</td>\n",
       "      <td>0.0</td>\n",
       "      <td>1.0</td>\n",
       "      <td>1.0</td>\n",
       "      <td>1.0</td>\n",
       "      <td>1.0</td>\n",
       "    </tr>\n",
       "    <tr>\n",
       "      <th>Property_Area</th>\n",
       "      <td>614</td>\n",
       "      <td>3</td>\n",
       "      <td>Semiurban</td>\n",
       "      <td>233</td>\n",
       "      <td>NaN</td>\n",
       "      <td>NaN</td>\n",
       "      <td>NaN</td>\n",
       "      <td>NaN</td>\n",
       "      <td>NaN</td>\n",
       "      <td>NaN</td>\n",
       "      <td>NaN</td>\n",
       "    </tr>\n",
       "    <tr>\n",
       "      <th>Loan_Status</th>\n",
       "      <td>614</td>\n",
       "      <td>2</td>\n",
       "      <td>Y</td>\n",
       "      <td>422</td>\n",
       "      <td>NaN</td>\n",
       "      <td>NaN</td>\n",
       "      <td>NaN</td>\n",
       "      <td>NaN</td>\n",
       "      <td>NaN</td>\n",
       "      <td>NaN</td>\n",
       "      <td>NaN</td>\n",
       "    </tr>\n",
       "  </tbody>\n",
       "</table>\n",
       "</div>"
      ],
      "text/plain": [
       "                   count unique        top freq         mean          std  \\\n",
       "Loan_ID              614    614   LP001002    1          NaN          NaN   \n",
       "Gender               601      2       Male  489          NaN          NaN   \n",
       "Married              611      2        Yes  398          NaN          NaN   \n",
       "Dependents           599      4          0  345          NaN          NaN   \n",
       "Education            614      2   Graduate  480          NaN          NaN   \n",
       "Self_Employed        582      2         No  500          NaN          NaN   \n",
       "ApplicantIncome    614.0    NaN        NaN  NaN  5403.459283  6109.041673   \n",
       "CoapplicantIncome  614.0    NaN        NaN  NaN  1621.245798  2926.248369   \n",
       "LoanAmount         592.0    NaN        NaN  NaN   146.412162    85.587325   \n",
       "Loan_Amount_Term   600.0    NaN        NaN  NaN        342.0     65.12041   \n",
       "Credit_History     564.0    NaN        NaN  NaN     0.842199     0.364878   \n",
       "Property_Area        614      3  Semiurban  233          NaN          NaN   \n",
       "Loan_Status          614      2          Y  422          NaN          NaN   \n",
       "\n",
       "                     min     25%     50%      75%      max  \n",
       "Loan_ID              NaN     NaN     NaN      NaN      NaN  \n",
       "Gender               NaN     NaN     NaN      NaN      NaN  \n",
       "Married              NaN     NaN     NaN      NaN      NaN  \n",
       "Dependents           NaN     NaN     NaN      NaN      NaN  \n",
       "Education            NaN     NaN     NaN      NaN      NaN  \n",
       "Self_Employed        NaN     NaN     NaN      NaN      NaN  \n",
       "ApplicantIncome    150.0  2877.5  3812.5   5795.0  81000.0  \n",
       "CoapplicantIncome    0.0     0.0  1188.5  2297.25  41667.0  \n",
       "LoanAmount           9.0   100.0   128.0    168.0    700.0  \n",
       "Loan_Amount_Term    12.0   360.0   360.0    360.0    480.0  \n",
       "Credit_History       0.0     1.0     1.0      1.0      1.0  \n",
       "Property_Area        NaN     NaN     NaN      NaN      NaN  \n",
       "Loan_Status          NaN     NaN     NaN      NaN      NaN  "
      ]
     },
     "execution_count": 11,
     "metadata": {},
     "output_type": "execute_result"
    }
   ],
   "source": [
    "# Getting descriptive statistics on the numeric variables in the dataset.\n",
    "train.describe(include='all').T"
   ]
  },
  {
   "cell_type": "markdown",
   "id": "82eedf95",
   "metadata": {},
   "source": [
    "##### Search for duplicate values "
   ]
  },
  {
   "cell_type": "code",
   "execution_count": 12,
   "id": "cd9177bd",
   "metadata": {},
   "outputs": [
    {
     "data": {
      "text/plain": [
       "0"
      ]
     },
     "execution_count": 12,
     "metadata": {},
     "output_type": "execute_result"
    }
   ],
   "source": [
    "train.duplicated().sum()"
   ]
  },
  {
   "cell_type": "code",
   "execution_count": 13,
   "id": "2c260d94",
   "metadata": {},
   "outputs": [
    {
     "data": {
      "text/plain": [
       "0"
      ]
     },
     "execution_count": 13,
     "metadata": {},
     "output_type": "execute_result"
    }
   ],
   "source": [
    "test.duplicated().sum()"
   ]
  },
  {
   "cell_type": "markdown",
   "id": "04d47161",
   "metadata": {},
   "source": [
    "##### Search for missing values "
   ]
  },
  {
   "cell_type": "code",
   "execution_count": 14,
   "id": "9fee82af",
   "metadata": {},
   "outputs": [
    {
     "data": {
      "text/plain": [
       "Credit_History       50\n",
       "Self_Employed        32\n",
       "LoanAmount           22\n",
       "Dependents           15\n",
       "Loan_Amount_Term     14\n",
       "Gender               13\n",
       "Married               3\n",
       "Loan_ID               0\n",
       "Education             0\n",
       "ApplicantIncome       0\n",
       "CoapplicantIncome     0\n",
       "Property_Area         0\n",
       "Loan_Status           0\n",
       "dtype: int64"
      ]
     },
     "execution_count": 14,
     "metadata": {},
     "output_type": "execute_result"
    }
   ],
   "source": [
    "train.isnull().sum().sort_values(ascending=False)"
   ]
  },
  {
   "cell_type": "markdown",
   "id": "0591d5b1",
   "metadata": {},
   "source": [
    "- There are missing values in the following features:- 'Credit_History', 'Self_Employed', 'LoanAmount', 'Dependents', 'Loan_Amount_Term', 'Gender', 'Married'."
   ]
  },
  {
   "cell_type": "code",
   "execution_count": 15,
   "id": "784bb833",
   "metadata": {},
   "outputs": [
    {
     "data": {
      "text/plain": [
       "Credit_History       29\n",
       "Self_Employed        23\n",
       "Gender               11\n",
       "Dependents           10\n",
       "Loan_Amount_Term      6\n",
       "LoanAmount            5\n",
       "Loan_ID               0\n",
       "Married               0\n",
       "Education             0\n",
       "ApplicantIncome       0\n",
       "CoapplicantIncome     0\n",
       "Property_Area         0\n",
       "dtype: int64"
      ]
     },
     "execution_count": 15,
     "metadata": {},
     "output_type": "execute_result"
    }
   ],
   "source": [
    "test.isnull().sum().sort_values(ascending=False)"
   ]
  },
  {
   "cell_type": "markdown",
   "id": "cf5dc347",
   "metadata": {},
   "source": [
    "- There are missing values in the following features:- 'Credit_History', 'Self_Employed', 'Gender', 'Dependents', 'Loan_Amount_Term', 'LoanAmount'."
   ]
  },
  {
   "cell_type": "markdown",
   "id": "ec628b42",
   "metadata": {},
   "source": [
    "##### Column Removal or Column Dropping \"Loan_ID\""
   ]
  },
  {
   "cell_type": "markdown",
   "id": "65edf3e0",
   "metadata": {},
   "source": [
    "- Removing the \"Loan_ID\" column as its a noise for our model and has no impact on the target "
   ]
  },
  {
   "cell_type": "code",
   "execution_count": 16,
   "id": "f8db0095",
   "metadata": {
    "scrolled": true
   },
   "outputs": [
    {
     "data": {
      "text/html": [
       "<div>\n",
       "<style scoped>\n",
       "    .dataframe tbody tr th:only-of-type {\n",
       "        vertical-align: middle;\n",
       "    }\n",
       "\n",
       "    .dataframe tbody tr th {\n",
       "        vertical-align: top;\n",
       "    }\n",
       "\n",
       "    .dataframe thead th {\n",
       "        text-align: right;\n",
       "    }\n",
       "</style>\n",
       "<table border=\"1\" class=\"dataframe\">\n",
       "  <thead>\n",
       "    <tr style=\"text-align: right;\">\n",
       "      <th></th>\n",
       "      <th>Gender</th>\n",
       "      <th>Married</th>\n",
       "      <th>Dependents</th>\n",
       "      <th>Education</th>\n",
       "      <th>Self_Employed</th>\n",
       "      <th>ApplicantIncome</th>\n",
       "      <th>CoapplicantIncome</th>\n",
       "      <th>LoanAmount</th>\n",
       "      <th>Loan_Amount_Term</th>\n",
       "      <th>Credit_History</th>\n",
       "      <th>Property_Area</th>\n",
       "      <th>Loan_Status</th>\n",
       "    </tr>\n",
       "  </thead>\n",
       "  <tbody>\n",
       "    <tr>\n",
       "      <th>0</th>\n",
       "      <td>Male</td>\n",
       "      <td>No</td>\n",
       "      <td>0</td>\n",
       "      <td>Graduate</td>\n",
       "      <td>No</td>\n",
       "      <td>5849</td>\n",
       "      <td>0.0</td>\n",
       "      <td>NaN</td>\n",
       "      <td>360.0</td>\n",
       "      <td>1.0</td>\n",
       "      <td>Urban</td>\n",
       "      <td>Y</td>\n",
       "    </tr>\n",
       "    <tr>\n",
       "      <th>1</th>\n",
       "      <td>Male</td>\n",
       "      <td>Yes</td>\n",
       "      <td>1</td>\n",
       "      <td>Graduate</td>\n",
       "      <td>No</td>\n",
       "      <td>4583</td>\n",
       "      <td>1508.0</td>\n",
       "      <td>128.0</td>\n",
       "      <td>360.0</td>\n",
       "      <td>1.0</td>\n",
       "      <td>Rural</td>\n",
       "      <td>N</td>\n",
       "    </tr>\n",
       "    <tr>\n",
       "      <th>2</th>\n",
       "      <td>Male</td>\n",
       "      <td>Yes</td>\n",
       "      <td>0</td>\n",
       "      <td>Graduate</td>\n",
       "      <td>Yes</td>\n",
       "      <td>3000</td>\n",
       "      <td>0.0</td>\n",
       "      <td>66.0</td>\n",
       "      <td>360.0</td>\n",
       "      <td>1.0</td>\n",
       "      <td>Urban</td>\n",
       "      <td>Y</td>\n",
       "    </tr>\n",
       "    <tr>\n",
       "      <th>3</th>\n",
       "      <td>Male</td>\n",
       "      <td>Yes</td>\n",
       "      <td>0</td>\n",
       "      <td>Not Graduate</td>\n",
       "      <td>No</td>\n",
       "      <td>2583</td>\n",
       "      <td>2358.0</td>\n",
       "      <td>120.0</td>\n",
       "      <td>360.0</td>\n",
       "      <td>1.0</td>\n",
       "      <td>Urban</td>\n",
       "      <td>Y</td>\n",
       "    </tr>\n",
       "    <tr>\n",
       "      <th>4</th>\n",
       "      <td>Male</td>\n",
       "      <td>No</td>\n",
       "      <td>0</td>\n",
       "      <td>Graduate</td>\n",
       "      <td>No</td>\n",
       "      <td>6000</td>\n",
       "      <td>0.0</td>\n",
       "      <td>141.0</td>\n",
       "      <td>360.0</td>\n",
       "      <td>1.0</td>\n",
       "      <td>Urban</td>\n",
       "      <td>Y</td>\n",
       "    </tr>\n",
       "  </tbody>\n",
       "</table>\n",
       "</div>"
      ],
      "text/plain": [
       "  Gender Married Dependents     Education Self_Employed  ApplicantIncome  \\\n",
       "0   Male      No          0      Graduate            No             5849   \n",
       "1   Male     Yes          1      Graduate            No             4583   \n",
       "2   Male     Yes          0      Graduate           Yes             3000   \n",
       "3   Male     Yes          0  Not Graduate            No             2583   \n",
       "4   Male      No          0      Graduate            No             6000   \n",
       "\n",
       "   CoapplicantIncome  LoanAmount  Loan_Amount_Term  Credit_History  \\\n",
       "0                0.0         NaN             360.0             1.0   \n",
       "1             1508.0       128.0             360.0             1.0   \n",
       "2                0.0        66.0             360.0             1.0   \n",
       "3             2358.0       120.0             360.0             1.0   \n",
       "4                0.0       141.0             360.0             1.0   \n",
       "\n",
       "  Property_Area Loan_Status  \n",
       "0         Urban           Y  \n",
       "1         Rural           N  \n",
       "2         Urban           Y  \n",
       "3         Urban           Y  \n",
       "4         Urban           Y  "
      ]
     },
     "execution_count": 16,
     "metadata": {},
     "output_type": "execute_result"
    }
   ],
   "source": [
    "train.drop('Loan_ID',axis=1,inplace=True)\n",
    "train.head()"
   ]
  },
  {
   "cell_type": "markdown",
   "id": "b3bed34d",
   "metadata": {},
   "source": [
    "##### Checking unique values in our dataset for better understanding "
   ]
  },
  {
   "cell_type": "code",
   "execution_count": 17,
   "id": "e724dff2",
   "metadata": {},
   "outputs": [
    {
     "data": {
      "text/plain": [
       "Gender                 2\n",
       "Married                2\n",
       "Dependents             4\n",
       "Education              2\n",
       "Self_Employed          2\n",
       "ApplicantIncome      505\n",
       "CoapplicantIncome    287\n",
       "LoanAmount           203\n",
       "Loan_Amount_Term      10\n",
       "Credit_History         2\n",
       "Property_Area          3\n",
       "Loan_Status            2\n",
       "dtype: int64"
      ]
     },
     "execution_count": 17,
     "metadata": {},
     "output_type": "execute_result"
    }
   ],
   "source": [
    "train.nunique()"
   ]
  },
  {
   "cell_type": "markdown",
   "id": "dd19c77c",
   "metadata": {},
   "source": [
    "##### Checking the description of our data to check for skewness and distribution"
   ]
  },
  {
   "cell_type": "code",
   "execution_count": 18,
   "id": "8b513365",
   "metadata": {},
   "outputs": [
    {
     "data": {
      "text/html": [
       "<div>\n",
       "<style scoped>\n",
       "    .dataframe tbody tr th:only-of-type {\n",
       "        vertical-align: middle;\n",
       "    }\n",
       "\n",
       "    .dataframe tbody tr th {\n",
       "        vertical-align: top;\n",
       "    }\n",
       "\n",
       "    .dataframe thead th {\n",
       "        text-align: right;\n",
       "    }\n",
       "</style>\n",
       "<table border=\"1\" class=\"dataframe\">\n",
       "  <thead>\n",
       "    <tr style=\"text-align: right;\">\n",
       "      <th></th>\n",
       "      <th>ApplicantIncome</th>\n",
       "      <th>CoapplicantIncome</th>\n",
       "      <th>LoanAmount</th>\n",
       "      <th>Loan_Amount_Term</th>\n",
       "      <th>Credit_History</th>\n",
       "    </tr>\n",
       "  </thead>\n",
       "  <tbody>\n",
       "    <tr>\n",
       "      <th>count</th>\n",
       "      <td>614.000000</td>\n",
       "      <td>614.000000</td>\n",
       "      <td>592.000000</td>\n",
       "      <td>600.00000</td>\n",
       "      <td>564.000000</td>\n",
       "    </tr>\n",
       "    <tr>\n",
       "      <th>mean</th>\n",
       "      <td>5403.459283</td>\n",
       "      <td>1621.245798</td>\n",
       "      <td>146.412162</td>\n",
       "      <td>342.00000</td>\n",
       "      <td>0.842199</td>\n",
       "    </tr>\n",
       "    <tr>\n",
       "      <th>std</th>\n",
       "      <td>6109.041673</td>\n",
       "      <td>2926.248369</td>\n",
       "      <td>85.587325</td>\n",
       "      <td>65.12041</td>\n",
       "      <td>0.364878</td>\n",
       "    </tr>\n",
       "    <tr>\n",
       "      <th>min</th>\n",
       "      <td>150.000000</td>\n",
       "      <td>0.000000</td>\n",
       "      <td>9.000000</td>\n",
       "      <td>12.00000</td>\n",
       "      <td>0.000000</td>\n",
       "    </tr>\n",
       "    <tr>\n",
       "      <th>25%</th>\n",
       "      <td>2877.500000</td>\n",
       "      <td>0.000000</td>\n",
       "      <td>100.000000</td>\n",
       "      <td>360.00000</td>\n",
       "      <td>1.000000</td>\n",
       "    </tr>\n",
       "    <tr>\n",
       "      <th>50%</th>\n",
       "      <td>3812.500000</td>\n",
       "      <td>1188.500000</td>\n",
       "      <td>128.000000</td>\n",
       "      <td>360.00000</td>\n",
       "      <td>1.000000</td>\n",
       "    </tr>\n",
       "    <tr>\n",
       "      <th>75%</th>\n",
       "      <td>5795.000000</td>\n",
       "      <td>2297.250000</td>\n",
       "      <td>168.000000</td>\n",
       "      <td>360.00000</td>\n",
       "      <td>1.000000</td>\n",
       "    </tr>\n",
       "    <tr>\n",
       "      <th>max</th>\n",
       "      <td>81000.000000</td>\n",
       "      <td>41667.000000</td>\n",
       "      <td>700.000000</td>\n",
       "      <td>480.00000</td>\n",
       "      <td>1.000000</td>\n",
       "    </tr>\n",
       "  </tbody>\n",
       "</table>\n",
       "</div>"
      ],
      "text/plain": [
       "       ApplicantIncome  CoapplicantIncome  LoanAmount  Loan_Amount_Term  \\\n",
       "count       614.000000         614.000000  592.000000         600.00000   \n",
       "mean       5403.459283        1621.245798  146.412162         342.00000   \n",
       "std        6109.041673        2926.248369   85.587325          65.12041   \n",
       "min         150.000000           0.000000    9.000000          12.00000   \n",
       "25%        2877.500000           0.000000  100.000000         360.00000   \n",
       "50%        3812.500000        1188.500000  128.000000         360.00000   \n",
       "75%        5795.000000        2297.250000  168.000000         360.00000   \n",
       "max       81000.000000       41667.000000  700.000000         480.00000   \n",
       "\n",
       "       Credit_History  \n",
       "count      564.000000  \n",
       "mean         0.842199  \n",
       "std          0.364878  \n",
       "min          0.000000  \n",
       "25%          1.000000  \n",
       "50%          1.000000  \n",
       "75%          1.000000  \n",
       "max          1.000000  "
      ]
     },
     "execution_count": 18,
     "metadata": {},
     "output_type": "execute_result"
    }
   ],
   "source": [
    "train.describe()"
   ]
  },
  {
   "cell_type": "markdown",
   "id": "3fa43437",
   "metadata": {},
   "source": [
    "- There appears to be high positive skewness in Dependents, Applicant Income, Co-Applicant Income, Loan Amount, where there may be potential outliers, which should be checked.                                       \n",
    "- Loan Amount and credit history have negative skewness."
   ]
  },
  {
   "cell_type": "markdown",
   "id": "e3a89972",
   "metadata": {},
   "source": [
    "### Checking for outliers "
   ]
  },
  {
   "cell_type": "code",
   "execution_count": 19,
   "id": "82022131",
   "metadata": {},
   "outputs": [
    {
     "data": {
      "text/plain": [
       "<Figure size 720x288 with 0 Axes>"
      ]
     },
     "metadata": {},
     "output_type": "display_data"
    },
    {
     "data": {
      "image/png": "[encoded data removed]",
      "text/plain": [
       "<Figure size 360x360 with 1 Axes>"
      ]
     },
     "metadata": {
      "needs_background": "light"
     },
     "output_type": "display_data"
    }
   ],
   "source": [
    "plt.figure(figsize=(10,4))\n",
    "sns.catplot(data=train,kind='box')\n",
    "plt.xticks(rotation=90)\n",
    "plt.grid()\n",
    "plt.show()"
   ]
  },
  {
   "cell_type": "markdown",
   "id": "9be3cbc8",
   "metadata": {},
   "source": [
    "- There seems to be outliers in applicant income and coapplicant income which needs to be taken into consideration."
   ]
  },
  {
   "cell_type": "markdown",
   "id": "a33b4cec",
   "metadata": {},
   "source": [
    "### Univariate Analysis: Numerical Features"
   ]
  },
  {
   "cell_type": "code",
   "execution_count": 20,
   "id": "bd39d4b2",
   "metadata": {
    "scrolled": true
   },
   "outputs": [
    {
     "name": "stdout",
     "output_type": "stream",
     "text": [
      "Skewness of  ApplicantIncome :  6.539513113994625\n",
      "Kurtosis of  ApplicantIncome :  60.54067593369113\n",
      "---------------------------\n",
      "Skewness of  CoapplicantIncome :  7.491531216657306\n",
      "Kurtosis of  CoapplicantIncome :  84.95638421103374\n",
      "---------------------------\n",
      "Skewness of  LoanAmount :  2.677551679256059\n",
      "Kurtosis of  LoanAmount :  10.40153349029416\n",
      "---------------------------\n",
      "Skewness of  Loan_Amount_Term :  -2.362414124216269\n",
      "Kurtosis of  Loan_Amount_Term :  6.673473692814259\n",
      "---------------------------\n",
      "Skewness of  Credit_History :  -1.8823610612186696\n",
      "Kurtosis of  Credit_History :  1.5487626683496112\n",
      "---------------------------\n"
     ]
    }
   ],
   "source": [
    "# Distribution Plot / Histogram\n",
    "for col in numerical_columns:\n",
    "    print(\"Skewness of \", col,\": \" , train[col].skew());\n",
    "    print(\"Kurtosis of \",col,\": \" , train[col].kurtosis());\n",
    "    print(\"---------------------------\")"
   ]
  },
  {
   "cell_type": "code",
   "execution_count": 21,
   "id": "02b2612a",
   "metadata": {
    "scrolled": false
   },
   "outputs": [
    {
     "data": {
      "image/png": "[encoded data removed]",
      "text/plain": [
       "<Figure size 432x288 with 1 Axes>"
      ]
     },
     "metadata": {},
     "output_type": "display_data"
    },
    {
     "data": {
      "image/png": "[encoded data removed]",
      "text/plain": [
       "<Figure size 432x288 with 1 Axes>"
      ]
     },
     "metadata": {},
     "output_type": "display_data"
    },
    {
     "data": {
      "image/png": "[encoded data removed]",
      "text/plain": [
       "<Figure size 432x288 with 1 Axes>"
      ]
     },
     "metadata": {},
     "output_type": "display_data"
    },
    {
     "data": {
      "image/png": "[encoded data removed]",
      "text/plain": [
       "<Figure size 432x288 with 1 Axes>"
      ]
     },
     "metadata": {},
     "output_type": "display_data"
    },
    {
     "data": {
      "image/png": "[encoded data removed]",
      "text/plain": [
       "<Figure size 432x288 with 1 Axes>"
      ]
     },
     "metadata": {},
     "output_type": "display_data"
    }
   ],
   "source": [
    "for col in numerical_columns:  \n",
    "    sns.set_style('white');\n",
    "    plt.figure();\n",
    "    sns.distplot(train[col], fit = norm);"
   ]
  },
  {
   "cell_type": "markdown",
   "id": "94836f32",
   "metadata": {},
   "source": [
    "- Features such as ApplicantIncome & Coapplicant Income are highly skewed (positively), could be normalized using Log Transformation\n",
    "- LoanAmount is also positively skewed, can be normalized using Log Transformation"
   ]
  },
  {
   "cell_type": "code",
   "execution_count": 22,
   "id": "4176e2a0",
   "metadata": {},
   "outputs": [
    {
     "data": {
      "image/png": "[encoded data removed]",
      "text/plain": [
       "<Figure size 432x288 with 1 Axes>"
      ]
     },
     "metadata": {},
     "output_type": "display_data"
    },
    {
     "data": {
      "image/png": "[encoded data removed]",
      "text/plain": [
       "<Figure size 432x288 with 1 Axes>"
      ]
     },
     "metadata": {},
     "output_type": "display_data"
    },
    {
     "data": {
      "image/png": "[encoded data removed]",
      "text/plain": [
       "<Figure size 432x288 with 1 Axes>"
      ]
     },
     "metadata": {},
     "output_type": "display_data"
    },
    {
     "data": {
      "image/png": "[encoded data removed]",
      "text/plain": [
       "<Figure size 432x288 with 1 Axes>"
      ]
     },
     "metadata": {},
     "output_type": "display_data"
    },
    {
     "data": {
      "image/png": "[encoded data removed]",
      "text/plain": [
       "<Figure size 432x288 with 1 Axes>"
      ]
     },
     "metadata": {},
     "output_type": "display_data"
    }
   ],
   "source": [
    "# Box Plots\n",
    "for col in numerical_columns:\n",
    "    sns.set_style('white');\n",
    "    plt.figure();\n",
    "    sns.boxplot(train[col]);"
   ]
  },
  {
   "cell_type": "code",
   "execution_count": 23,
   "id": "09ad2d5f",
   "metadata": {},
   "outputs": [
    {
     "name": "stdout",
     "output_type": "stream",
     "text": [
      "[ 1.  0. nan]\n",
      "------------------------------------------------------------------------------------------\n",
      "[360. 120. 240.  nan 180.  60. 300. 480.  36.  84.  12.]\n"
     ]
    }
   ],
   "source": [
    "print(train['Credit_History'].unique())\n",
    "print(\"---\"*30)\n",
    "print(train['Loan_Amount_Term'].unique())"
   ]
  },
  {
   "cell_type": "markdown",
   "id": "ce1ad6ff",
   "metadata": {},
   "source": [
    "- Feature Credit_History must be a categorical feature as it only holds values 1 & 0\n",
    "- Loan_Amount_Term can also be labeled as a categorical feature\n",
    "- CoapplicantIncome & ApplicantIncome are a highly disperesed features"
   ]
  },
  {
   "cell_type": "markdown",
   "id": "4d8aea87",
   "metadata": {},
   "source": [
    "### Bi-Variate Analysis: Continuous vs. Continuous"
   ]
  },
  {
   "cell_type": "code",
   "execution_count": 24,
   "id": "5020a000",
   "metadata": {},
   "outputs": [],
   "source": [
    "# Converting Loan_Amount_Term & Credit_History to categorical features\n",
    "train['Loan_Amount_Term'] = train['Loan_Amount_Term'].astype(object)\n",
    "train['Credit_History'] = train['Credit_History'].astype(object)"
   ]
  },
  {
   "cell_type": "code",
   "execution_count": 25,
   "id": "44fb4846",
   "metadata": {},
   "outputs": [
    {
     "data": {
      "text/plain": [
       "Index(['ApplicantIncome', 'CoapplicantIncome', 'LoanAmount'], dtype='object')"
      ]
     },
     "execution_count": 25,
     "metadata": {},
     "output_type": "execute_result"
    }
   ],
   "source": [
    "# Updating numerical and categorical columns\n",
    "numerical_columns = train.dtypes[train.dtypes != 'object'].index\n",
    "numerical_columns"
   ]
  },
  {
   "cell_type": "code",
   "execution_count": 26,
   "id": "b3e9529f",
   "metadata": {},
   "outputs": [
    {
     "data": {
      "text/plain": [
       "Index(['Gender', 'Married', 'Dependents', 'Education', 'Self_Employed',\n",
       "       'Loan_Amount_Term', 'Credit_History', 'Property_Area', 'Loan_Status'],\n",
       "      dtype='object')"
      ]
     },
     "execution_count": 26,
     "metadata": {},
     "output_type": "execute_result"
    }
   ],
   "source": [
    "categorical_columns = train.dtypes[train.dtypes == 'object'].index\n",
    "categorical_columns"
   ]
  },
  {
   "cell_type": "code",
   "execution_count": 27,
   "id": "b920661b",
   "metadata": {},
   "outputs": [
    {
     "data": {
      "image/png": "[encoded data removed]",
      "text/plain": [
       "<Figure size 432x288 with 1 Axes>"
      ]
     },
     "metadata": {},
     "output_type": "display_data"
    },
    {
     "data": {
      "image/png": "[encoded data removed]",
      "text/plain": [
       "<Figure size 432x288 with 1 Axes>"
      ]
     },
     "metadata": {},
     "output_type": "display_data"
    },
    {
     "data": {
      "image/png": "[encoded data removed]",
      "text/plain": [
       "<Figure size 432x288 with 1 Axes>"
      ]
     },
     "metadata": {},
     "output_type": "display_data"
    },
    {
     "data": {
      "image/png": "[encoded data removed]",
      "text/plain": [
       "<Figure size 432x288 with 1 Axes>"
      ]
     },
     "metadata": {},
     "output_type": "display_data"
    },
    {
     "data": {
      "image/png": "[encoded data removed]",
      "text/plain": [
       "<Figure size 432x288 with 1 Axes>"
      ]
     },
     "metadata": {},
     "output_type": "display_data"
    },
    {
     "data": {
      "image/png": "[encoded data removed]",
      "text/plain": [
       "<Figure size 432x288 with 1 Axes>"
      ]
     },
     "metadata": {},
     "output_type": "display_data"
    },
    {
     "data": {
      "text/plain": [
       "<Figure size 432x288 with 0 Axes>"
      ]
     },
     "metadata": {},
     "output_type": "display_data"
    }
   ],
   "source": [
    "def srt_reg(df):\n",
    "    for i in train[[col for col in numerical_columns]]:\n",
    "        for k in train[[col for col in numerical_columns[::-1]]]:\n",
    "            if i == k:\n",
    "                continue;\n",
    "            sns.regplot(x=i, y=k, data=df, color='#e74c3c', line_kws={'color': 'black'}, scatter_kws={'alpha':0.4})\n",
    "            plt.figure();\n",
    "            \n",
    "srt_reg(train)"
   ]
  },
  {
   "cell_type": "markdown",
   "id": "be79bf81",
   "metadata": {},
   "source": [
    "- LoanAmount and ApplicantIncome follow a linear relationship.\n",
    "- Most of the Coapplicant income is equal to 0, which must be taken into account as it biases our data, otherwise it is linearly related to the loan amount."
   ]
  },
  {
   "cell_type": "code",
   "execution_count": 28,
   "id": "6b42d940",
   "metadata": {},
   "outputs": [
    {
     "name": "stdout",
     "output_type": "stream",
     "text": [
      "Number of rows with 0 CoapplicantIncome:  273\n",
      "Percentage: 44.462540716612374\n"
     ]
    }
   ],
   "source": [
    "print(\"Number of rows with 0 CoapplicantIncome: \", train.CoapplicantIncome.value_counts()[0])\n",
    "print(\"Percentage:\", (train.CoapplicantIncome.value_counts()[0]/train.CoapplicantIncome.count()*100))"
   ]
  },
  {
   "cell_type": "markdown",
   "id": "7b131768",
   "metadata": {},
   "source": [
    "### Bi-Variate Analysis: Categorical vs. Categorical"
   ]
  },
  {
   "cell_type": "markdown",
   "id": "c1cfc68e",
   "metadata": {},
   "source": [
    "##### Counting frequency of categories for each categorical features"
   ]
  },
  {
   "cell_type": "code",
   "execution_count": 29,
   "id": "94c9c081",
   "metadata": {},
   "outputs": [
    {
     "name": "stdout",
     "output_type": "stream",
     "text": [
      "\n",
      "Frequency of Categories for variable Gender\n",
      "Male      489\n",
      "Female    112\n",
      "Name: Gender, dtype: int64\n",
      "\n",
      "Frequency of Categories for variable Married\n",
      "Yes    398\n",
      "No     213\n",
      "Name: Married, dtype: int64\n",
      "\n",
      "Frequency of Categories for variable Dependents\n",
      "0     345\n",
      "1     102\n",
      "2     101\n",
      "3+     51\n",
      "Name: Dependents, dtype: int64\n",
      "\n",
      "Frequency of Categories for variable Education\n",
      "Graduate        480\n",
      "Not Graduate    134\n",
      "Name: Education, dtype: int64\n",
      "\n",
      "Frequency of Categories for variable Self_Employed\n",
      "No     500\n",
      "Yes     82\n",
      "Name: Self_Employed, dtype: int64\n",
      "\n",
      "Frequency of Categories for variable Property_Area\n",
      "Semiurban    233\n",
      "Urban        202\n",
      "Rural        179\n",
      "Name: Property_Area, dtype: int64\n"
     ]
    }
   ],
   "source": [
    "data = [train,test]\n",
    "for dataset in data:\n",
    "    #Filter categorical variables\n",
    "    categorical_columns = [x for x in dataset.dtypes.index if dataset.dtypes[x]=='object']\n",
    "    # Exclude ID cols and source:\n",
    "    categorical_columns = [x for x in categorical_columns if x not in ['Loan_ID' ]]\n",
    "    #Print frequency of categories\n",
    "    \n",
    "for col in categorical_columns:\n",
    "    print ('\\nFrequency of Categories for variable %s'%col)\n",
    "    print (train[col].value_counts())"
   ]
  },
  {
   "cell_type": "code",
   "execution_count": 30,
   "id": "bdf41469",
   "metadata": {},
   "outputs": [
    {
     "data": {
      "text/plain": [
       "Y    422\n",
       "N    192\n",
       "Name: Loan_Status, dtype: int64"
      ]
     },
     "execution_count": 30,
     "metadata": {},
     "output_type": "execute_result"
    }
   ],
   "source": [
    "# Comparison of loan status\n",
    "train['Loan_Status'].value_counts()"
   ]
  },
  {
   "cell_type": "code",
   "execution_count": 31,
   "id": "faaa8580",
   "metadata": {},
   "outputs": [
    {
     "data": {
      "text/plain": [
       "Y    68.729642\n",
       "N    31.270358\n",
       "Name: Loan_Status, dtype: float64"
      ]
     },
     "execution_count": 31,
     "metadata": {},
     "output_type": "execute_result"
    }
   ],
   "source": [
    "# Get the value counts of Loan_Status and calculate the normalized values\n",
    "data = train['Loan_Status'].value_counts(normalize=True)*100\n",
    "data"
   ]
  },
  {
   "cell_type": "code",
   "execution_count": 32,
   "id": "3a376cfe",
   "metadata": {
    "scrolled": true
   },
   "outputs": [
    {
     "data": {
      "image/png": "[encoded data removed]",
      "text/plain": [
       "<Figure size 432x288 with 1 Axes>"
      ]
     },
     "metadata": {},
     "output_type": "display_data"
    }
   ],
   "source": [
    "# Create a list of labels for the pie chart\n",
    "labels = ['Approved', 'Rejected']\n",
    "\n",
    "# Create a list of colors for the pie chart\n",
    "colors = ['#1f77b4', '#ff7f0e']\n",
    "\n",
    "# Create the pie chart\n",
    "plt.pie(data, labels=labels, colors=colors, autopct='%1.1f%%', startangle=90)\n",
    "\n",
    "# Add a title to the chart\n",
    "plt.title('Loan Approval Percentage')\n",
    "\n",
    "# Show the chart\n",
    "plt.show()"
   ]
  },
  {
   "cell_type": "markdown",
   "id": "21384e17",
   "metadata": {},
   "source": [
    "- Loan_Status is our target variable that appears to be unbalanced as it is in a 1:3 ratio, which must be corrected for our model to make accurate predictions."
   ]
  },
  {
   "cell_type": "markdown",
   "id": "da58f11e",
   "metadata": {},
   "source": [
    "### Gender"
   ]
  },
  {
   "cell_type": "code",
   "execution_count": 33,
   "id": "1900ddc8",
   "metadata": {},
   "outputs": [
    {
     "data": {
      "text/plain": [
       "Gender  Loan_Status\n",
       "Female  Y               75\n",
       "        N               37\n",
       "Male    Y              339\n",
       "        N              150\n",
       "Name: Loan_Status, dtype: int64"
      ]
     },
     "execution_count": 33,
     "metadata": {},
     "output_type": "execute_result"
    }
   ],
   "source": [
    "# Comparison of loan status based on gender\n",
    "train.groupby(\"Gender\")['Loan_Status'].value_counts()"
   ]
  },
  {
   "cell_type": "code",
   "execution_count": 34,
   "id": "cf17d8a8",
   "metadata": {},
   "outputs": [
    {
     "data": {
      "text/plain": [
       "Gender  Loan_Status\n",
       "Female  Y              66.964286\n",
       "        N              33.035714\n",
       "Male    Y              69.325153\n",
       "        N              30.674847\n",
       "Name: Loan_Status, dtype: float64"
      ]
     },
     "execution_count": 34,
     "metadata": {},
     "output_type": "execute_result"
    }
   ],
   "source": [
    "# Group the data by Gender and Loan_Status and calculate the normalized value counts\n",
    "data = train.groupby(\"Gender\")['Loan_Status'].value_counts(normalize=True)*100\n",
    "data"
   ]
  },
  {
   "cell_type": "code",
   "execution_count": 35,
   "id": "a27e3720",
   "metadata": {},
   "outputs": [
    {
     "data": {
      "image/png": "[encoded data removed]",
      "text/plain": [
       "<Figure size 432x288 with 1 Axes>"
      ]
     },
     "metadata": {},
     "output_type": "display_data"
    }
   ],
   "source": [
    "# Convert the data into a DataFrame and unstack it to create a pivot table\n",
    "data = data.to_frame().unstack()\n",
    "\n",
    "# Plot the data as a bar chart\n",
    "data.plot(kind='bar')\n",
    "\n",
    "# Set the chart title and axis labels\n",
    "plt.title('Loan Approval Percentage by Gender')\n",
    "plt.xlabel('Gender')\n",
    "plt.ylabel('Percentage')\n",
    "\n",
    "# Show the chart\n",
    "plt.show()"
   ]
  },
  {
   "cell_type": "markdown",
   "id": "2201e589",
   "metadata": {},
   "source": [
    "- Males and females have the same chances to get a loan. "
   ]
  },
  {
   "cell_type": "markdown",
   "id": "e1ff754d",
   "metadata": {},
   "source": [
    "### Marital Status"
   ]
  },
  {
   "cell_type": "code",
   "execution_count": 36,
   "id": "9db8f19a",
   "metadata": {},
   "outputs": [
    {
     "data": {
      "text/plain": [
       "Married  Loan_Status\n",
       "No       Y              134\n",
       "         N               79\n",
       "Yes      Y              285\n",
       "         N              113\n",
       "Name: Loan_Status, dtype: int64"
      ]
     },
     "execution_count": 36,
     "metadata": {},
     "output_type": "execute_result"
    }
   ],
   "source": [
    "# Comparison of loan approvals based on Marital Status\n",
    "train.groupby(\"Married\")[\"Loan_Status\"].value_counts()"
   ]
  },
  {
   "cell_type": "code",
   "execution_count": 37,
   "id": "ecf31fca",
   "metadata": {},
   "outputs": [
    {
     "data": {
      "text/plain": [
       "Married  Loan_Status\n",
       "No       Y              62.910798\n",
       "         N              37.089202\n",
       "Yes      Y              71.608040\n",
       "         N              28.391960\n",
       "Name: Loan_Status, dtype: float64"
      ]
     },
     "execution_count": 37,
     "metadata": {},
     "output_type": "execute_result"
    }
   ],
   "source": [
    "# Group the data by Married and Loan_Status and calculate the normalized value counts\n",
    "data = train.groupby(\"Married\")[\"Loan_Status\"].value_counts(normalize=True)*100\n",
    "data"
   ]
  },
  {
   "cell_type": "code",
   "execution_count": 38,
   "id": "ff3e045c",
   "metadata": {},
   "outputs": [
    {
     "data": {
      "image/png": "[encoded data removed]",
      "text/plain": [
       "<Figure size 432x288 with 1 Axes>"
      ]
     },
     "metadata": {},
     "output_type": "display_data"
    }
   ],
   "source": [
    "# Convert the data into a DataFrame and unstack it to create a pivot table\n",
    "data = data.to_frame().unstack()\n",
    "\n",
    "# Plot the data as a stacked bar chart\n",
    "data.plot(kind='bar', stacked=True)\n",
    "\n",
    "# Set the chart title and axis labels\n",
    "plt.title('Loan Approval Percentage by Marital Status')\n",
    "plt.xlabel('Marital Status')\n",
    "plt.ylabel('Percentage')\n",
    "\n",
    "# Show the chart\n",
    "plt.show()"
   ]
  },
  {
   "cell_type": "markdown",
   "id": "3229f200",
   "metadata": {},
   "source": [
    "- Married and unmarried individuals have nearly the same percentage of bank loans: 72% for married individuals and 63% for unmarried individuals."
   ]
  },
  {
   "cell_type": "markdown",
   "id": "942a8396",
   "metadata": {},
   "source": [
    "### Dependents"
   ]
  },
  {
   "cell_type": "code",
   "execution_count": 39,
   "id": "74541c29",
   "metadata": {},
   "outputs": [
    {
     "data": {
      "text/plain": [
       "Dependents  Loan_Status\n",
       "0           Y              68.985507\n",
       "            N              31.014493\n",
       "1           Y              64.705882\n",
       "            N              35.294118\n",
       "2           Y              75.247525\n",
       "            N              24.752475\n",
       "3+          Y              64.705882\n",
       "            N              35.294118\n",
       "Name: Loan_Status, dtype: float64"
      ]
     },
     "execution_count": 39,
     "metadata": {},
     "output_type": "execute_result"
    }
   ],
   "source": [
    "# Group the data by Dependents and Loan_Status and calculate the normalized value counts\n",
    "data = train.groupby(\"Dependents\")[\"Loan_Status\"].value_counts(normalize=True)*100\n",
    "data"
   ]
  },
  {
   "cell_type": "code",
   "execution_count": 40,
   "id": "04c6d55e",
   "metadata": {},
   "outputs": [
    {
     "data": {
      "image/png": "[encoded data removed]",
      "text/plain": [
       "<Figure size 432x288 with 1 Axes>"
      ]
     },
     "metadata": {},
     "output_type": "display_data"
    }
   ],
   "source": [
    "# Convert the data into a DataFrame and unstack it to create a pivot table\n",
    "data = data.to_frame().unstack()\n",
    "\n",
    "# Plot the data as a stacked bar chart\n",
    "data.plot(kind='bar', stacked=True)\n",
    "\n",
    "# Set the chart title and axis labels\n",
    "plt.title('Loan Approval Percentage by Dependents')\n",
    "plt.xlabel('Dependents')\n",
    "plt.ylabel('Percentage')\n",
    "\n",
    "# Show the chart\n",
    "plt.show()"
   ]
  },
  {
   "cell_type": "markdown",
   "id": "52cb114c",
   "metadata": {},
   "source": [
    "- People with two dependents are more likely to get a loan with a 75% percentage.\n",
    "- People with 0 dependents, 1 dependent, 3 or more dependents have almost the same percentage of bank loans."
   ]
  },
  {
   "cell_type": "markdown",
   "id": "5a3b5af6",
   "metadata": {},
   "source": [
    "### Education Level"
   ]
  },
  {
   "cell_type": "code",
   "execution_count": 41,
   "id": "5ec190ef",
   "metadata": {},
   "outputs": [
    {
     "data": {
      "text/plain": [
       "Education     Loan_Status\n",
       "Graduate      Y              340\n",
       "              N              140\n",
       "Not Graduate  Y               82\n",
       "              N               52\n",
       "Name: Loan_Status, dtype: int64"
      ]
     },
     "execution_count": 41,
     "metadata": {},
     "output_type": "execute_result"
    }
   ],
   "source": [
    "# Comparison of loan approvals based on education level\n",
    "train.groupby(\"Education\")[\"Loan_Status\"].value_counts()"
   ]
  },
  {
   "cell_type": "code",
   "execution_count": 42,
   "id": "a03e6a0d",
   "metadata": {},
   "outputs": [
    {
     "data": {
      "text/plain": [
       "Education     Loan_Status\n",
       "Graduate      Y              70.833333\n",
       "              N              29.166667\n",
       "Not Graduate  Y              61.194030\n",
       "              N              38.805970\n",
       "Name: Loan_Status, dtype: float64"
      ]
     },
     "execution_count": 42,
     "metadata": {},
     "output_type": "execute_result"
    }
   ],
   "source": [
    "# Group the data by Education and Loan_Status and calculate the normalized value counts\n",
    "data = train.groupby(\"Education\")[\"Loan_Status\"].value_counts(normalize=True)*100\n",
    "data"
   ]
  },
  {
   "cell_type": "code",
   "execution_count": 43,
   "id": "552873cd",
   "metadata": {},
   "outputs": [
    {
     "data": {
      "image/png": "[encoded data removed]",
      "text/plain": [
       "<Figure size 432x288 with 1 Axes>"
      ]
     },
     "metadata": {},
     "output_type": "display_data"
    }
   ],
   "source": [
    "# Convert the data into a DataFrame and unstack it to create a pivot table\n",
    "data = data.to_frame().unstack()\n",
    "\n",
    "# Plot the data as a stacked bar chart\n",
    "data.plot(kind='bar', stacked=True)\n",
    "\n",
    "# Set the chart title and axis labels\n",
    "plt.title('Loan Approval Percentage by Education')\n",
    "plt.xlabel('Education')\n",
    "plt.ylabel('Percentage')\n",
    "\n",
    "# Show the chart\n",
    "plt.show()"
   ]
  },
  {
   "cell_type": "markdown",
   "id": "aefd3bc2",
   "metadata": {},
   "source": [
    "- Graduates are eligible for a loan compared to non-graduates."
   ]
  },
  {
   "cell_type": "markdown",
   "id": "07ff479b",
   "metadata": {},
   "source": [
    "### Self-employment Status"
   ]
  },
  {
   "cell_type": "code",
   "execution_count": 44,
   "id": "3ab57a46",
   "metadata": {},
   "outputs": [
    {
     "data": {
      "text/plain": [
       "Self_Employed  Loan_Status\n",
       "No             Y              343\n",
       "               N              157\n",
       "Yes            Y               56\n",
       "               N               26\n",
       "Name: Loan_Status, dtype: int64"
      ]
     },
     "execution_count": 44,
     "metadata": {},
     "output_type": "execute_result"
    }
   ],
   "source": [
    "# Comparison of loan approvals based on self-employment status\n",
    "train.groupby(\"Self_Employed\")[\"Loan_Status\"].value_counts()"
   ]
  },
  {
   "cell_type": "code",
   "execution_count": 45,
   "id": "5e2a2dcb",
   "metadata": {},
   "outputs": [
    {
     "data": {
      "text/plain": [
       "Self_Employed  Loan_Status\n",
       "No             Y              68.600000\n",
       "               N              31.400000\n",
       "Yes            Y              68.292683\n",
       "               N              31.707317\n",
       "Name: Loan_Status, dtype: float64"
      ]
     },
     "execution_count": 45,
     "metadata": {},
     "output_type": "execute_result"
    }
   ],
   "source": [
    "# Group the data by Self_Employed and Loan_Status and calculate the normalized value counts\n",
    "data = train.groupby(\"Self_Employed\")[\"Loan_Status\"].value_counts(normalize=True)*100\n",
    "data"
   ]
  },
  {
   "cell_type": "code",
   "execution_count": 46,
   "id": "a051ce3c",
   "metadata": {},
   "outputs": [
    {
     "data": {
      "image/png": "[encoded data removed]",
      "text/plain": [
       "<Figure size 432x288 with 1 Axes>"
      ]
     },
     "metadata": {},
     "output_type": "display_data"
    }
   ],
   "source": [
    "# Convert the data into a DataFrame and unstack it to create a pivot table\n",
    "data = data.to_frame().unstack()\n",
    "\n",
    "# Plot the data as a stacked bar chart\n",
    "data.plot(kind='bar', stacked=True)\n",
    "\n",
    "# Set the chart title and axis labels\n",
    "plt.title('Loan Approval Percentage by Self Employment Status')\n",
    "plt.xlabel('Self Employment Status')\n",
    "plt.ylabel('Percentage')\n",
    "\n",
    "# Show the chart\n",
    "plt.show()"
   ]
  },
  {
   "cell_type": "markdown",
   "id": "59629d57",
   "metadata": {},
   "source": [
    "- Independents and non-independents are equally likely to get a loan, with 68% for both."
   ]
  },
  {
   "cell_type": "markdown",
   "id": "2a26e3a1",
   "metadata": {},
   "source": [
    "### Credit_History"
   ]
  },
  {
   "cell_type": "code",
   "execution_count": 47,
   "id": "a2e9ff63",
   "metadata": {},
   "outputs": [
    {
     "data": {
      "text/plain": [
       "Credit_History  Loan_Status\n",
       "0.0             N               82\n",
       "                Y                7\n",
       "1.0             Y              378\n",
       "                N               97\n",
       "Name: Loan_Status, dtype: int64"
      ]
     },
     "execution_count": 47,
     "metadata": {},
     "output_type": "execute_result"
    }
   ],
   "source": [
    "# Comparison of loan approvals based on Credit_History\n",
    "train.groupby(\"Credit_History\")[\"Loan_Status\"].value_counts()"
   ]
  },
  {
   "cell_type": "code",
   "execution_count": 48,
   "id": "0ed8005e",
   "metadata": {},
   "outputs": [
    {
     "data": {
      "text/plain": [
       "Credit_History  Loan_Status\n",
       "0.0             N              92.134831\n",
       "                Y               7.865169\n",
       "1.0             Y              79.578947\n",
       "                N              20.421053\n",
       "Name: Loan_Status, dtype: float64"
      ]
     },
     "execution_count": 48,
     "metadata": {},
     "output_type": "execute_result"
    }
   ],
   "source": [
    "# Group the data by Credit_History and Loan_Status and calculate the normalized value counts\n",
    "data = train.groupby(\"Credit_History\")[\"Loan_Status\"].value_counts(normalize=True)*100\n",
    "data"
   ]
  },
  {
   "cell_type": "code",
   "execution_count": 49,
   "id": "11aabb97",
   "metadata": {},
   "outputs": [
    {
     "data": {
      "image/png": "[encoded data removed]",
      "text/plain": [
       "<Figure size 432x288 with 1 Axes>"
      ]
     },
     "metadata": {},
     "output_type": "display_data"
    }
   ],
   "source": [
    "# Convert the data into a DataFrame and unstack it to create a pivot table\n",
    "data = data.to_frame().unstack()\n",
    "\n",
    "# Plot the data as a stacked bar chart\n",
    "data.plot(kind='bar', stacked=True)\n",
    "\n",
    "# Set the chart title and axis labels\n",
    "plt.title('Loan Approval Percentage by Credit History')\n",
    "plt.xlabel('Credit History')\n",
    "plt.ylabel('Percentage')\n",
    "\n",
    "# Show the chart\n",
    "plt.show()"
   ]
  },
  {
   "cell_type": "markdown",
   "id": "aa91c8fc",
   "metadata": {},
   "source": [
    "- People with a credit history are more likely to get a loan from the bank.\n",
    "- With better credit History the Loan amount given was greater too."
   ]
  },
  {
   "cell_type": "markdown",
   "id": "bf0c0658",
   "metadata": {},
   "source": [
    "### Property Area"
   ]
  },
  {
   "cell_type": "code",
   "execution_count": 50,
   "id": "8f5bdf06",
   "metadata": {},
   "outputs": [
    {
     "data": {
      "text/plain": [
       "Property_Area  Loan_Status\n",
       "Rural          Y              110\n",
       "               N               69\n",
       "Semiurban      Y              179\n",
       "               N               54\n",
       "Urban          Y              133\n",
       "               N               69\n",
       "Name: Loan_Status, dtype: int64"
      ]
     },
     "execution_count": 50,
     "metadata": {},
     "output_type": "execute_result"
    }
   ],
   "source": [
    "# Comparison of loan approvals based on Property_Area\n",
    "train.groupby(\"Property_Area\")[\"Loan_Status\"].value_counts()"
   ]
  },
  {
   "cell_type": "code",
   "execution_count": 51,
   "id": "e14ebc4b",
   "metadata": {},
   "outputs": [
    {
     "data": {
      "text/plain": [
       "Property_Area  Loan_Status\n",
       "Rural          Y              61.452514\n",
       "               N              38.547486\n",
       "Semiurban      Y              76.824034\n",
       "               N              23.175966\n",
       "Urban          Y              65.841584\n",
       "               N              34.158416\n",
       "Name: Loan_Status, dtype: float64"
      ]
     },
     "execution_count": 51,
     "metadata": {},
     "output_type": "execute_result"
    }
   ],
   "source": [
    "# Group the data by Property_Area and Loan_Status and calculate the normalized value counts\n",
    "data = train.groupby(\"Property_Area\")[\"Loan_Status\"].value_counts(normalize=True)*100\n",
    "data"
   ]
  },
  {
   "cell_type": "code",
   "execution_count": 52,
   "id": "c19a687f",
   "metadata": {
    "scrolled": true
   },
   "outputs": [
    {
     "data": {
      "image/png": "[encoded data removed]",
      "text/plain": [
       "<Figure size 432x288 with 1 Axes>"
      ]
     },
     "metadata": {},
     "output_type": "display_data"
    }
   ],
   "source": [
    "# Convert the data into a DataFrame and unstack it to create a pivot table\n",
    "data = data.to_frame().unstack()\n",
    "\n",
    "# Plot the data as a stacked bar chart\n",
    "data.plot(kind='bar', stacked=True)\n",
    "\n",
    "# Set the chart title and axis labels\n",
    "plt.title('Loan Approval Percentage by Property Area')\n",
    "plt.xlabel('Property Area')\n",
    "plt.ylabel('Percentage')\n",
    "\n",
    "# Show the chart\n",
    "plt.show()"
   ]
  },
  {
   "cell_type": "markdown",
   "id": "1a5e8f6e",
   "metadata": {},
   "source": [
    "- Residents of semi-urban areas are more likely to get a loan, with a percentage of 77%.\n",
    "- Rural and urban residents have almost the same percentage of bank loans."
   ]
  },
  {
   "cell_type": "markdown",
   "id": "b0a4cdcb",
   "metadata": {},
   "source": [
    "### Loan Amount Term"
   ]
  },
  {
   "cell_type": "code",
   "execution_count": 53,
   "id": "ffa448cd",
   "metadata": {},
   "outputs": [
    {
     "data": {
      "text/plain": [
       "Loan_Amount_Term  Loan_Status\n",
       "12.0              Y              100.000000\n",
       "36.0              N              100.000000\n",
       "60.0              Y              100.000000\n",
       "84.0              Y               75.000000\n",
       "                  N               25.000000\n",
       "120.0             Y              100.000000\n",
       "180.0             Y               65.909091\n",
       "                  N               34.090909\n",
       "240.0             Y               75.000000\n",
       "                  N               25.000000\n",
       "300.0             Y               61.538462\n",
       "                  N               38.461538\n",
       "360.0             Y               70.117188\n",
       "                  N               29.882812\n",
       "480.0             N               60.000000\n",
       "                  Y               40.000000\n",
       "Name: Loan_Status, dtype: float64"
      ]
     },
     "execution_count": 53,
     "metadata": {},
     "output_type": "execute_result"
    }
   ],
   "source": [
    "# Comparison of loan approvals based on Loan_Amount_Term\n",
    "\n",
    "# Group the data by Loan_Amount_Term and Loan_Status and calculate the normalized value counts\n",
    "data = train.groupby(\"Loan_Amount_Term\")[\"Loan_Status\"].value_counts(normalize=True)*100\n",
    "data"
   ]
  },
  {
   "cell_type": "code",
   "execution_count": 54,
   "id": "b3db65ec",
   "metadata": {},
   "outputs": [
    {
     "data": {
      "image/png": "[encoded data removed]",
      "text/plain": [
       "<Figure size 432x288 with 1 Axes>"
      ]
     },
     "metadata": {},
     "output_type": "display_data"
    }
   ],
   "source": [
    "# Convert the data into a DataFrame and unstack it to create a pivot table\n",
    "data = data.to_frame().unstack()\n",
    "\n",
    "# Plot the data as a stacked bar chart\n",
    "data.plot(kind='bar', stacked=True)\n",
    "\n",
    "# Set the chart title and axis labels\n",
    "plt.title('Loan Approval Percentage by Loan Amount Term')\n",
    "plt.xlabel('Loan Amount Term')\n",
    "plt.ylabel('Percentage')\n",
    "\n",
    "# Show the chart\n",
    "plt.show()"
   ]
  },
  {
   "cell_type": "markdown",
   "id": "ba6c1f69",
   "metadata": {},
   "source": [
    "- People generally opt for a 12-month, 60-month or 120-month loan term and do not opt for a 36 month loan term.\n",
    "- A high percentage of people opt for an 84-month, a 240-month or 360-month loan term, as opposed to those who opt for a 480-month loan term."
   ]
  },
  {
   "cell_type": "markdown",
   "id": "d93ee62f",
   "metadata": {},
   "source": [
    "#### Comparison of Dependents based on Gender"
   ]
  },
  {
   "cell_type": "code",
   "execution_count": 55,
   "id": "09741ac1",
   "metadata": {},
   "outputs": [
    {
     "data": {
      "text/plain": [
       "Gender  Dependents\n",
       "Female  0             73.394495\n",
       "        1             17.431193\n",
       "        2              6.422018\n",
       "        3+             2.752294\n",
       "Male    0             54.088050\n",
       "        2             19.287212\n",
       "        1             17.190776\n",
       "        3+             9.433962\n",
       "Name: Dependents, dtype: float64"
      ]
     },
     "execution_count": 55,
     "metadata": {},
     "output_type": "execute_result"
    }
   ],
   "source": [
    "# Group the data by Gender and Dependents and calculate the normalized value counts\n",
    "data = train.groupby(\"Gender\")[\"Dependents\"].value_counts(normalize=True)*100\n",
    "data"
   ]
  },
  {
   "cell_type": "code",
   "execution_count": 56,
   "id": "0144260e",
   "metadata": {},
   "outputs": [
    {
     "data": {
      "image/png": "[encoded data removed]",
      "text/plain": [
       "<Figure size 432x288 with 1 Axes>"
      ]
     },
     "metadata": {},
     "output_type": "display_data"
    }
   ],
   "source": [
    "# Convert the data into a DataFrame and unstack it to create a pivot table\n",
    "data = data.to_frame().unstack()\n",
    "\n",
    "# Plot the data as a grouped bar chart\n",
    "data.plot(kind='bar')\n",
    "\n",
    "# Set the chart title and axis labels\n",
    "plt.title('Percentage of Dependents by Gender')\n",
    "plt.xlabel('Gender')\n",
    "plt.ylabel('Percentage')\n",
    "\n",
    "# Show the chart\n",
    "plt.show()"
   ]
  },
  {
   "cell_type": "markdown",
   "id": "d968ca6f",
   "metadata": {},
   "source": [
    "- Most females and males have no dependents with a 73% for females and 54% for males. "
   ]
  },
  {
   "cell_type": "markdown",
   "id": "ee3e3164",
   "metadata": {},
   "source": [
    "#### Comparison of Dependents based on Marital status"
   ]
  },
  {
   "cell_type": "code",
   "execution_count": 57,
   "id": "6d2ea8d3",
   "metadata": {},
   "outputs": [
    {
     "data": {
      "text/plain": [
       "Married  Dependents\n",
       "No       0             81.818182\n",
       "         1             11.004785\n",
       "         2              3.827751\n",
       "         3+             3.349282\n",
       "Yes      0             44.615385\n",
       "         2             23.846154\n",
       "         1             20.256410\n",
       "         3+            11.282051\n",
       "Name: Dependents, dtype: float64"
      ]
     },
     "execution_count": 57,
     "metadata": {},
     "output_type": "execute_result"
    }
   ],
   "source": [
    "# group the data by \"Married\" and \"Dependents\", calculate the percentage of each group, and multiply by 100\n",
    "data = train.groupby(\"Married\")[\"Dependents\"].value_counts(normalize=True)*100\n",
    "data "
   ]
  },
  {
   "cell_type": "code",
   "execution_count": 58,
   "id": "543b69b1",
   "metadata": {},
   "outputs": [
    {
     "data": {
      "image/png": "[encoded data removed]",
      "text/plain": [
       "<Figure size 432x288 with 1 Axes>"
      ]
     },
     "metadata": {},
     "output_type": "display_data"
    }
   ],
   "source": [
    "# unstack the \"Dependents\" index to create a dataframe with \"Married\" as the columns and \"Dependents\" as the rows\n",
    "# this makes it easier to plot the data as a stacked bar chart\n",
    "data.unstack().plot(kind='bar', stacked=True)\n",
    "\n",
    "# add labels to the x-axis, y-axis, and plot title\n",
    "plt.xlabel('Married')\n",
    "plt.ylabel('Percentage')\n",
    "plt.title('Dependents by Marital Status')\n",
    "\n",
    "# add a legend to the plot that shows the number of dependents for each bar\n",
    "plt.legend(title='Dependents', loc='center left', bbox_to_anchor=(1, 0.5))\n",
    "\n",
    "# display the plot\n",
    "plt.show()"
   ]
  },
  {
   "cell_type": "markdown",
   "id": "c69d67a1",
   "metadata": {},
   "source": [
    "- Unmarried individuals generally have no dependents (82%).\n",
    "- Nearly half of married individuals (45%) do not have any dependents, while almost the same proportion of married individuals (44%) have one or two dependents."
   ]
  },
  {
   "cell_type": "markdown",
   "id": "faae912e",
   "metadata": {},
   "source": [
    "#### Comparison of self-employment status based on education level"
   ]
  },
  {
   "cell_type": "code",
   "execution_count": 59,
   "id": "ec0c5d59",
   "metadata": {},
   "outputs": [
    {
     "data": {
      "text/plain": [
       "Education     Self_Employed\n",
       "Graduate      No               85.682819\n",
       "              Yes              14.317181\n",
       "Not Graduate  No               86.718750\n",
       "              Yes              13.281250\n",
       "Name: Self_Employed, dtype: float64"
      ]
     },
     "execution_count": 59,
     "metadata": {},
     "output_type": "execute_result"
    }
   ],
   "source": [
    "# group the data by \"Education\" and \"Self_Employed\", calculate the percentage of each group, and multiply by 100\n",
    "data = train.groupby(\"Education\")[\"Self_Employed\"].value_counts(normalize=True)*100\n",
    "data"
   ]
  },
  {
   "cell_type": "code",
   "execution_count": 60,
   "id": "d7925eb6",
   "metadata": {
    "scrolled": true
   },
   "outputs": [
    {
     "data": {
      "image/png": "[encoded data removed]",
      "text/plain": [
       "<Figure size 432x288 with 1 Axes>"
      ]
     },
     "metadata": {},
     "output_type": "display_data"
    }
   ],
   "source": [
    "# unstack the \"Self_Employed\" index to create a dataframe with \"Education\" as the columns and \"Self_Employed\" as the rows\n",
    "# this makes it easier to plot the data as a stacked bar chart\n",
    "data.unstack().plot(kind='bar', stacked=True)\n",
    "\n",
    "# add labels to the x-axis, y-axis, and plot title\n",
    "plt.xlabel('Education')\n",
    "plt.ylabel('Percentage')\n",
    "plt.title('Self-Employment by Education Level')\n",
    "\n",
    "# add a legend to the plot that shows the self-employment status for each bar\n",
    "plt.legend(title='Self-Employed', loc='center left', bbox_to_anchor=(1, 0.5))\n",
    "\n",
    "# display the plot\n",
    "plt.show()"
   ]
  },
  {
   "cell_type": "markdown",
   "id": "efa75829",
   "metadata": {},
   "source": [
    "- Both graduates and non-graduates are non-independent workers."
   ]
  },
  {
   "cell_type": "code",
   "execution_count": 61,
   "id": "abc424fe",
   "metadata": {},
   "outputs": [],
   "source": [
    "# Cross Tabulation between Loan_Status and other categorical features\n",
    "def cross_tab(col, df):\n",
    "    cat = df.dtypes[train.dtypes == 'object'].index\n",
    "    for i in cat:\n",
    "        if i == col:\n",
    "            continue;\n",
    "        print(pd.crosstab(index = train[i], columns = train[col], normalize='index'))\n",
    "        print(\"----\"*30)"
   ]
  },
  {
   "cell_type": "code",
   "execution_count": 62,
   "id": "cd0374aa",
   "metadata": {
    "scrolled": false
   },
   "outputs": [
    {
     "name": "stdout",
     "output_type": "stream",
     "text": [
      "p - value for test between  Loan_Status  and  Gender  is: 0.7086529816451106\n",
      "Loan_Status  and  Gender  are not correlated.\n",
      "------------------------------------------------------------------------------------------------------------------------\n",
      "p - value for test between  Loan_Status  and  Married  is: 0.03439381301579988\n",
      "Loan_Status  and  Married  are correlated.\n",
      "------------------------------------------------------------------------------------------------------------------------\n",
      "p - value for test between  Loan_Status  and  Dependents  is: 0.3678506740863211\n",
      "Loan_Status  and  Dependents  are not correlated.\n",
      "------------------------------------------------------------------------------------------------------------------------\n",
      "p - value for test between  Loan_Status  and  Education  is: 0.04309962129357355\n",
      "Loan_Status  and  Education  are correlated.\n",
      "------------------------------------------------------------------------------------------------------------------------\n",
      "p - value for test between  Loan_Status  and  Self_Employed  is: 1.0\n",
      "Loan_Status  and  Self_Employed  are not correlated.\n",
      "------------------------------------------------------------------------------------------------------------------------\n",
      "p - value for test between  Loan_Status  and  Loan_Amount_Term  is: 0.12185762421276591\n",
      "Loan_Status  and  Loan_Amount_Term  are not correlated.\n",
      "------------------------------------------------------------------------------------------------------------------------\n",
      "p - value for test between  Loan_Status  and  Credit_History  is: 7.184759548750746e-40\n",
      "Loan_Status  and  Credit_History  are correlated.\n",
      "------------------------------------------------------------------------------------------------------------------------\n",
      "p - value for test between  Loan_Status  and  Property_Area  is: 0.0021360187811644937\n",
      "Loan_Status  and  Property_Area  are correlated.\n",
      "------------------------------------------------------------------------------------------------------------------------\n"
     ]
    }
   ],
   "source": [
    "# Performing Chi-Square Test between Loan_Status and other features\n",
    "def chi_sq(col, df):\n",
    "    cat = df.dtypes[train.dtypes == 'object'].index\n",
    "    for i in cat:\n",
    "        if i == col:\n",
    "            continue;\n",
    "        cross = pd.crosstab(index = train[i], columns = train[col])\n",
    "        chisq_res = chi2_contingency(cross)\n",
    "        print(\"p - value for test between \", col, \" and \", i, \" is:\", chisq_res[1])\n",
    "        if chisq_res[1] > 0.05: \n",
    "            print(col, \" and \", i, \" are not correlated.\")\n",
    "        else:\n",
    "            print(col, \" and \", i, \" are correlated.\")\n",
    "        print(\"----\"*30)\n",
    "\n",
    "chi_sq('Loan_Status', train)"
   ]
  },
  {
   "cell_type": "markdown",
   "id": "e8862417",
   "metadata": {},
   "source": [
    "- Loan_Status is correlated with some features especially with Credit_History and Property_Area.\n",
    "- Loan_Status is not correlated with features such as Self_Employed, Loan_Amount_Term, Dependents and Gender"
   ]
  },
  {
   "cell_type": "markdown",
   "id": "6f330efa",
   "metadata": {},
   "source": [
    "### Bi-Variate Analysis: Continuous vs. Categorical"
   ]
  },
  {
   "cell_type": "code",
   "execution_count": 63,
   "id": "03e7d398",
   "metadata": {
    "scrolled": false
   },
   "outputs": [
    {
     "data": {
      "image/png": "[encoded data removed]",
      "text/plain": [
       "<Figure size 1296x1584 with 18 Axes>"
      ]
     },
     "metadata": {},
     "output_type": "display_data"
    }
   ],
   "source": [
    "# Box Plots\n",
    "def srt_box(df):\n",
    "    fig, axes = plt.subplots(len(categorical_columns), len(numerical_columns), figsize=(18, 22))\n",
    "    for i, numerical_col in enumerate(numerical_columns):\n",
    "        for j, categorical_col in enumerate(categorical_columns):\n",
    "            sns.boxplot(x=categorical_col, y=numerical_col, data=df, ax=axes[j][i])\n",
    "    plt.show()\n",
    "\n",
    "srt_box(train)"
   ]
  },
  {
   "cell_type": "markdown",
   "id": "97fa821a",
   "metadata": {},
   "source": [
    "- There are some male applicants which have high ApplicantIncome, which may be classified as outliers.\n",
    "- Graduate Applicants have high ApplicantIncome.\n",
    "- Self Employed applicants also have higher income.\n",
    "- Some Female & Male co-applicants have exceptionally high CoapplicantIncome, therefore might be outliers.\n",
    "- Male applicants have greater LoanAmount.\n",
    "- Married applicants also have greater LoanAmount than Unmarried applicants.\n",
    "- Loan Amount has a linear relationship with the number of Dependents, as number of dependents increase, loan amount increases.\n",
    "- Graduate Applicants have high LoanAmount."
   ]
  },
  {
   "cell_type": "markdown",
   "id": "e27cce2c",
   "metadata": {},
   "source": [
    "### Handling Missing Values: Categorical & Numerical Features"
   ]
  },
  {
   "cell_type": "markdown",
   "id": "514d0b7f",
   "metadata": {},
   "source": [
    "##### Finding the mode for object datatype which can be used to replace the null values"
   ]
  },
  {
   "cell_type": "code",
   "execution_count": 64,
   "id": "2c9637b1",
   "metadata": {},
   "outputs": [
    {
     "name": "stdout",
     "output_type": "stream",
     "text": [
      "1/ Gender Mode:  0    Male\n",
      "Name: Gender, dtype: object\n",
      "2/ Married Mode:  0    Yes\n",
      "Name: Married, dtype: object\n",
      "3/ Self Employed Mode:  0    No\n",
      "Name: Self_Employed, dtype: object\n",
      "4/ Dependents Mode:  0    0\n",
      "Name: Dependents, dtype: object\n",
      "5/ Credit History Mode:  0    1.0\n",
      "Name: Credit_History, dtype: object\n"
     ]
    }
   ],
   "source": [
    "print('1/ Gender Mode: ', train['Gender'].mode())\n",
    "print('2/ Married Mode: ', train['Married'].mode())\n",
    "print('3/ Self Employed Mode: ', train['Self_Employed'].mode())\n",
    "print('4/ Dependents Mode: ', train['Dependents'].mode())\n",
    "print('5/ Credit History Mode: ', train['Credit_History'].mode())"
   ]
  },
  {
   "cell_type": "markdown",
   "id": "46b0f91b",
   "metadata": {},
   "source": [
    "##### Creating a bar plot using the Seaborn library "
   ]
  },
  {
   "cell_type": "code",
   "execution_count": 65,
   "id": "450b37a8",
   "metadata": {},
   "outputs": [
    {
     "data": {
      "text/plain": [
       "<AxesSubplot:xlabel='Loan_Amount_Term', ylabel='LoanAmount'>"
      ]
     },
     "execution_count": 65,
     "metadata": {},
     "output_type": "execute_result"
    },
    {
     "data": {
      "image/png": "[encoded data removed]",
      "text/plain": [
       "<Figure size 432x288 with 1 Axes>"
      ]
     },
     "metadata": {},
     "output_type": "display_data"
    }
   ],
   "source": [
    "sns.barplot(x = train['Loan_Amount_Term'], y = train['LoanAmount'])"
   ]
  },
  {
   "cell_type": "markdown",
   "id": "6a7cec82",
   "metadata": {},
   "source": [
    "- The above visualization allows us to observe a certain correlation between the amount of the loan and the term, the higher the amount of the loan, the longer the term, but there are some exceptions, as in the case of an amount of 25k, the term is 120 months."
   ]
  },
  {
   "cell_type": "markdown",
   "id": "265b5f1b",
   "metadata": {},
   "source": [
    "##### Search for missing values"
   ]
  },
  {
   "cell_type": "code",
   "execution_count": 66,
   "id": "b5036dc8",
   "metadata": {},
   "outputs": [
    {
     "data": {
      "text/plain": [
       "Credit_History       50\n",
       "Self_Employed        32\n",
       "LoanAmount           22\n",
       "Dependents           15\n",
       "Loan_Amount_Term     14\n",
       "Gender               13\n",
       "Married               3\n",
       "Education             0\n",
       "ApplicantIncome       0\n",
       "CoapplicantIncome     0\n",
       "Property_Area         0\n",
       "Loan_Status           0\n",
       "dtype: int64"
      ]
     },
     "execution_count": 66,
     "metadata": {},
     "output_type": "execute_result"
    }
   ],
   "source": [
    "train.isna().sum().sort_values(ascending=False)"
   ]
  },
  {
   "cell_type": "markdown",
   "id": "32aad762",
   "metadata": {},
   "source": [
    "- There are missing values in the following features:- 'Credit_History', 'Self_Employed', 'LoanAmount', 'Dependents', 'Loan_Amount_Term', 'Gender', 'Married'."
   ]
  },
  {
   "cell_type": "code",
   "execution_count": 67,
   "id": "57273505",
   "metadata": {},
   "outputs": [
    {
     "data": {
      "text/plain": [
       "Credit_History       8.14\n",
       "Self_Employed        5.21\n",
       "LoanAmount           3.58\n",
       "Dependents           2.44\n",
       "Loan_Amount_Term     2.28\n",
       "Gender               2.12\n",
       "Married              0.49\n",
       "Education            0.00\n",
       "ApplicantIncome      0.00\n",
       "CoapplicantIncome    0.00\n",
       "Property_Area        0.00\n",
       "Loan_Status          0.00\n",
       "dtype: float64"
      ]
     },
     "execution_count": 67,
     "metadata": {},
     "output_type": "execute_result"
    }
   ],
   "source": [
    "# % of missing values\n",
    "round((train.isna().sum() / len(train) * 100), 2).sort_values(ascending=False)"
   ]
  },
  {
   "cell_type": "markdown",
   "id": "f1ff7860",
   "metadata": {},
   "source": [
    "##### Boolean Indexing"
   ]
  },
  {
   "cell_type": "code",
   "execution_count": 68,
   "id": "2f095e02",
   "metadata": {},
   "outputs": [
    {
     "data": {
      "text/html": [
       "<div>\n",
       "<style scoped>\n",
       "    .dataframe tbody tr th:only-of-type {\n",
       "        vertical-align: middle;\n",
       "    }\n",
       "\n",
       "    .dataframe tbody tr th {\n",
       "        vertical-align: top;\n",
       "    }\n",
       "\n",
       "    .dataframe thead th {\n",
       "        text-align: right;\n",
       "    }\n",
       "</style>\n",
       "<table border=\"1\" class=\"dataframe\">\n",
       "  <thead>\n",
       "    <tr style=\"text-align: right;\">\n",
       "      <th></th>\n",
       "      <th>Loan_Amount_Term</th>\n",
       "      <th>LoanAmount</th>\n",
       "    </tr>\n",
       "  </thead>\n",
       "  <tbody>\n",
       "    <tr>\n",
       "      <th>19</th>\n",
       "      <td>NaN</td>\n",
       "      <td>115.0</td>\n",
       "    </tr>\n",
       "    <tr>\n",
       "      <th>36</th>\n",
       "      <td>NaN</td>\n",
       "      <td>100.0</td>\n",
       "    </tr>\n",
       "    <tr>\n",
       "      <th>44</th>\n",
       "      <td>NaN</td>\n",
       "      <td>96.0</td>\n",
       "    </tr>\n",
       "    <tr>\n",
       "      <th>45</th>\n",
       "      <td>NaN</td>\n",
       "      <td>88.0</td>\n",
       "    </tr>\n",
       "    <tr>\n",
       "      <th>73</th>\n",
       "      <td>NaN</td>\n",
       "      <td>95.0</td>\n",
       "    </tr>\n",
       "    <tr>\n",
       "      <th>112</th>\n",
       "      <td>NaN</td>\n",
       "      <td>152.0</td>\n",
       "    </tr>\n",
       "    <tr>\n",
       "      <th>165</th>\n",
       "      <td>NaN</td>\n",
       "      <td>182.0</td>\n",
       "    </tr>\n",
       "    <tr>\n",
       "      <th>197</th>\n",
       "      <td>NaN</td>\n",
       "      <td>120.0</td>\n",
       "    </tr>\n",
       "    <tr>\n",
       "      <th>223</th>\n",
       "      <td>NaN</td>\n",
       "      <td>175.0</td>\n",
       "    </tr>\n",
       "    <tr>\n",
       "      <th>232</th>\n",
       "      <td>NaN</td>\n",
       "      <td>120.0</td>\n",
       "    </tr>\n",
       "    <tr>\n",
       "      <th>335</th>\n",
       "      <td>NaN</td>\n",
       "      <td>70.0</td>\n",
       "    </tr>\n",
       "    <tr>\n",
       "      <th>367</th>\n",
       "      <td>NaN</td>\n",
       "      <td>124.0</td>\n",
       "    </tr>\n",
       "    <tr>\n",
       "      <th>421</th>\n",
       "      <td>NaN</td>\n",
       "      <td>80.0</td>\n",
       "    </tr>\n",
       "    <tr>\n",
       "      <th>423</th>\n",
       "      <td>NaN</td>\n",
       "      <td>110.0</td>\n",
       "    </tr>\n",
       "  </tbody>\n",
       "</table>\n",
       "</div>"
      ],
      "text/plain": [
       "    Loan_Amount_Term  LoanAmount\n",
       "19               NaN       115.0\n",
       "36               NaN       100.0\n",
       "44               NaN        96.0\n",
       "45               NaN        88.0\n",
       "73               NaN        95.0\n",
       "112              NaN       152.0\n",
       "165              NaN       182.0\n",
       "197              NaN       120.0\n",
       "223              NaN       175.0\n",
       "232              NaN       120.0\n",
       "335              NaN        70.0\n",
       "367              NaN       124.0\n",
       "421              NaN        80.0\n",
       "423              NaN       110.0"
      ]
     },
     "execution_count": 68,
     "metadata": {},
     "output_type": "execute_result"
    }
   ],
   "source": [
    "train[['Loan_Amount_Term', 'LoanAmount']][train['Loan_Amount_Term'].isnull()]"
   ]
  },
  {
   "cell_type": "markdown",
   "id": "31b762e8",
   "metadata": {},
   "source": [
    "##### Quick overview of the distribution of values"
   ]
  },
  {
   "cell_type": "code",
   "execution_count": 69,
   "id": "b02c4c77",
   "metadata": {},
   "outputs": [
    {
     "data": {
      "text/plain": [
       "0     345\n",
       "1     102\n",
       "2     101\n",
       "3+     51\n",
       "Name: Dependents, dtype: int64"
      ]
     },
     "execution_count": 69,
     "metadata": {},
     "output_type": "execute_result"
    }
   ],
   "source": [
    "train['Dependents'].value_counts()"
   ]
  },
  {
   "cell_type": "markdown",
   "id": "36a3ca10",
   "metadata": {},
   "source": [
    "- 3+ is an invalid value entered which is making this int column as object which needs to be corrected and converted into numeric data type."
   ]
  },
  {
   "cell_type": "markdown",
   "id": "61b4a79d",
   "metadata": {},
   "source": [
    "##### Value Substitution"
   ]
  },
  {
   "cell_type": "code",
   "execution_count": 70,
   "id": "9bb77a72",
   "metadata": {},
   "outputs": [
    {
     "data": {
      "text/plain": [
       "0    345\n",
       "1    102\n",
       "2    101\n",
       "3     51\n",
       "Name: Dependents, dtype: int64"
      ]
     },
     "execution_count": 70,
     "metadata": {},
     "output_type": "execute_result"
    }
   ],
   "source": [
    "train['Dependents'].replace('3+',3,inplace=True)\n",
    "train['Dependents'].value_counts()"
   ]
  },
  {
   "cell_type": "markdown",
   "id": "4377e6a3",
   "metadata": {},
   "source": [
    "##### Boolean Indexing"
   ]
  },
  {
   "cell_type": "code",
   "execution_count": 71,
   "id": "6646c801",
   "metadata": {
    "scrolled": false
   },
   "outputs": [
    {
     "data": {
      "text/html": [
       "<div>\n",
       "<style scoped>\n",
       "    .dataframe tbody tr th:only-of-type {\n",
       "        vertical-align: middle;\n",
       "    }\n",
       "\n",
       "    .dataframe tbody tr th {\n",
       "        vertical-align: top;\n",
       "    }\n",
       "\n",
       "    .dataframe thead th {\n",
       "        text-align: right;\n",
       "    }\n",
       "</style>\n",
       "<table border=\"1\" class=\"dataframe\">\n",
       "  <thead>\n",
       "    <tr style=\"text-align: right;\">\n",
       "      <th></th>\n",
       "      <th>Dependents</th>\n",
       "      <th>Married</th>\n",
       "    </tr>\n",
       "  </thead>\n",
       "  <tbody>\n",
       "    <tr>\n",
       "      <th>102</th>\n",
       "      <td>NaN</td>\n",
       "      <td>Yes</td>\n",
       "    </tr>\n",
       "    <tr>\n",
       "      <th>104</th>\n",
       "      <td>NaN</td>\n",
       "      <td>NaN</td>\n",
       "    </tr>\n",
       "    <tr>\n",
       "      <th>120</th>\n",
       "      <td>NaN</td>\n",
       "      <td>Yes</td>\n",
       "    </tr>\n",
       "    <tr>\n",
       "      <th>226</th>\n",
       "      <td>NaN</td>\n",
       "      <td>Yes</td>\n",
       "    </tr>\n",
       "    <tr>\n",
       "      <th>228</th>\n",
       "      <td>NaN</td>\n",
       "      <td>NaN</td>\n",
       "    </tr>\n",
       "    <tr>\n",
       "      <th>293</th>\n",
       "      <td>NaN</td>\n",
       "      <td>No</td>\n",
       "    </tr>\n",
       "    <tr>\n",
       "      <th>301</th>\n",
       "      <td>NaN</td>\n",
       "      <td>Yes</td>\n",
       "    </tr>\n",
       "    <tr>\n",
       "      <th>332</th>\n",
       "      <td>NaN</td>\n",
       "      <td>No</td>\n",
       "    </tr>\n",
       "    <tr>\n",
       "      <th>335</th>\n",
       "      <td>NaN</td>\n",
       "      <td>Yes</td>\n",
       "    </tr>\n",
       "    <tr>\n",
       "      <th>346</th>\n",
       "      <td>NaN</td>\n",
       "      <td>Yes</td>\n",
       "    </tr>\n",
       "    <tr>\n",
       "      <th>355</th>\n",
       "      <td>NaN</td>\n",
       "      <td>No</td>\n",
       "    </tr>\n",
       "    <tr>\n",
       "      <th>435</th>\n",
       "      <td>NaN</td>\n",
       "      <td>NaN</td>\n",
       "    </tr>\n",
       "    <tr>\n",
       "      <th>517</th>\n",
       "      <td>NaN</td>\n",
       "      <td>Yes</td>\n",
       "    </tr>\n",
       "    <tr>\n",
       "      <th>571</th>\n",
       "      <td>NaN</td>\n",
       "      <td>Yes</td>\n",
       "    </tr>\n",
       "    <tr>\n",
       "      <th>597</th>\n",
       "      <td>NaN</td>\n",
       "      <td>No</td>\n",
       "    </tr>\n",
       "  </tbody>\n",
       "</table>\n",
       "</div>"
      ],
      "text/plain": [
       "    Dependents Married\n",
       "102        NaN     Yes\n",
       "104        NaN     NaN\n",
       "120        NaN     Yes\n",
       "226        NaN     Yes\n",
       "228        NaN     NaN\n",
       "293        NaN      No\n",
       "301        NaN     Yes\n",
       "332        NaN      No\n",
       "335        NaN     Yes\n",
       "346        NaN     Yes\n",
       "355        NaN      No\n",
       "435        NaN     NaN\n",
       "517        NaN     Yes\n",
       "571        NaN     Yes\n",
       "597        NaN      No"
      ]
     },
     "execution_count": 71,
     "metadata": {},
     "output_type": "execute_result"
    }
   ],
   "source": [
    "train[['Dependents','Married']][train['Dependents'].isnull()]"
   ]
  },
  {
   "cell_type": "markdown",
   "id": "43102c10",
   "metadata": {},
   "source": [
    "##### Computing the number of distinct values in each column"
   ]
  },
  {
   "cell_type": "code",
   "execution_count": 72,
   "id": "5525e51d",
   "metadata": {},
   "outputs": [
    {
     "data": {
      "text/plain": [
       "Gender                 2\n",
       "Married                2\n",
       "Dependents             4\n",
       "Education              2\n",
       "Self_Employed          2\n",
       "ApplicantIncome      505\n",
       "CoapplicantIncome    287\n",
       "LoanAmount           203\n",
       "Loan_Amount_Term      10\n",
       "Credit_History         2\n",
       "Property_Area          3\n",
       "Loan_Status            2\n",
       "dtype: int64"
      ]
     },
     "execution_count": 72,
     "metadata": {},
     "output_type": "execute_result"
    }
   ],
   "source": [
    "train.nunique()"
   ]
  },
  {
   "cell_type": "markdown",
   "id": "23fa6a53",
   "metadata": {},
   "source": [
    "### Missing value imputation"
   ]
  },
  {
   "cell_type": "markdown",
   "id": "d2295aa6",
   "metadata": {},
   "source": [
    "- Replacing missing values with the mode is appropriate for categorical variables, such as \"Gender\", \"Married\", \"Self_Employed\", \"Credit_History\" and \"Dependents\", because these variables have a limited number of possible values. In this case, the mode represents the most common value in the column, and it is a reasonable estimate for what the missing values might be."
   ]
  },
  {
   "cell_type": "markdown",
   "id": "aea2196c",
   "metadata": {},
   "source": [
    "##### Filling the missing value of categorical data"
   ]
  },
  {
   "cell_type": "code",
   "execution_count": 73,
   "id": "13e4eef1",
   "metadata": {},
   "outputs": [],
   "source": [
    "train['Gender'].fillna('Male',inplace=True) \n",
    "#We fill in the missing values with mode because gender only has 2 unique values and replacing it with mode would not affect the model performance.\n",
    "\n",
    "train['Married'].fillna('Yes',inplace=True) \n",
    "#We replace with mode because marital status has 2 values and replacing with mode would not change the performance of the model.\n",
    "\n",
    "train['Self_Employed'].fillna('No',inplace=True) \n",
    "#We replace with mode because the self-employed status has 2 values and replacing with mode would not influence the model performance.\n",
    "\n",
    "train['Dependents'].fillna(0,inplace=True) \n",
    "#The dependents status has 4 unique values so the best idea is to replace with the mode which is the most common value in the column.\n",
    "\n",
    "train['Credit_History'].fillna(1.0,inplace=True) \n",
    "#We replace the NaN values of the credit history with the mode because the credit history has only 2 unique values and replacing it with the mode would not affect the model performance."
   ]
  },
  {
   "cell_type": "code",
   "execution_count": 74,
   "id": "0ced1974",
   "metadata": {},
   "outputs": [
    {
     "data": {
      "image/png": "[encoded data removed]",
      "text/plain": [
       "<Figure size 432x288 with 1 Axes>"
      ]
     },
     "metadata": {},
     "output_type": "display_data"
    }
   ],
   "source": [
    "splot = sns.countplot(x ='Loan_Amount_Term', data = train)\n",
    "for p in splot.patches:\n",
    "    splot.annotate(format(p.get_height(), '.2f'), (p.get_x() + p.get_width() / 2., p.get_height()), ha = 'center', va = 'center', xytext = (0, 10), textcoords = 'offset points')"
   ]
  },
  {
   "cell_type": "markdown",
   "id": "a09bcffc",
   "metadata": {},
   "source": [
    "- In our case, we are replcing NaN values of Loan_Amount_Term with mode because 360 has the highest number of occurence"
   ]
  },
  {
   "cell_type": "code",
   "execution_count": 75,
   "id": "e0ee4642",
   "metadata": {},
   "outputs": [
    {
     "name": "stdout",
     "output_type": "stream",
     "text": [
      "Loan Amount Term Mode:  0    360.0\n",
      "Name: Loan_Amount_Term, dtype: object\n"
     ]
    }
   ],
   "source": [
    "print('Loan Amount Term Mode: ', train['Loan_Amount_Term'].mode()) "
   ]
  },
  {
   "cell_type": "code",
   "execution_count": 76,
   "id": "5d179ce9",
   "metadata": {},
   "outputs": [],
   "source": [
    "train['Loan_Amount_Term'] = train[\"Loan_Amount_Term\"].fillna(train['Loan_Amount_Term'].mode()[0])"
   ]
  },
  {
   "cell_type": "code",
   "execution_count": 77,
   "id": "57911699",
   "metadata": {
    "scrolled": false
   },
   "outputs": [
    {
     "data": {
      "image/png": "[encoded data removed]",
      "text/plain": [
       "<Figure size 432x288 with 1 Axes>"
      ]
     },
     "metadata": {},
     "output_type": "display_data"
    }
   ],
   "source": [
    "splot = sns.countplot(x ='LoanAmount', data = train)\n",
    "for p in splot.patches:\n",
    "    splot.annotate(format(p.get_height(), '.2f'), (p.get_x() + p.get_width() / 2., p.get_height()), ha = 'center', va = 'center', xytext = (0, 10), textcoords = 'offset points')"
   ]
  },
  {
   "cell_type": "markdown",
   "id": "2ff0b115",
   "metadata": {},
   "source": [
    "- Here we can't replace null values with the mode.\n",
    "- Here, the mean or median will be a better option. \n",
    "- We need to check for outliers before replacing NaN values with the mean or median."
   ]
  },
  {
   "cell_type": "code",
   "execution_count": 78,
   "id": "d7e9fc36",
   "metadata": {
    "scrolled": false
   },
   "outputs": [
    {
     "data": {
      "text/html": [
       "<div>\n",
       "<style scoped>\n",
       "    .dataframe tbody tr th:only-of-type {\n",
       "        vertical-align: middle;\n",
       "    }\n",
       "\n",
       "    .dataframe tbody tr th {\n",
       "        vertical-align: top;\n",
       "    }\n",
       "\n",
       "    .dataframe thead th {\n",
       "        text-align: right;\n",
       "    }\n",
       "</style>\n",
       "<table border=\"1\" class=\"dataframe\">\n",
       "  <thead>\n",
       "    <tr style=\"text-align: right;\">\n",
       "      <th></th>\n",
       "      <th>Column Name</th>\n",
       "      <th>Number of Null Values</th>\n",
       "      <th>Percentage of Null Values</th>\n",
       "    </tr>\n",
       "  </thead>\n",
       "  <tbody>\n",
       "    <tr>\n",
       "      <th>2</th>\n",
       "      <td>LoanAmount</td>\n",
       "      <td>22</td>\n",
       "      <td>3.583062</td>\n",
       "    </tr>\n",
       "    <tr>\n",
       "      <th>0</th>\n",
       "      <td>ApplicantIncome</td>\n",
       "      <td>0</td>\n",
       "      <td>0.000000</td>\n",
       "    </tr>\n",
       "    <tr>\n",
       "      <th>1</th>\n",
       "      <td>CoapplicantIncome</td>\n",
       "      <td>0</td>\n",
       "      <td>0.000000</td>\n",
       "    </tr>\n",
       "  </tbody>\n",
       "</table>\n",
       "</div>"
      ],
      "text/plain": [
       "         Column Name  Number of Null Values  Percentage of Null Values\n",
       "2         LoanAmount                     22                   3.583062\n",
       "0    ApplicantIncome                      0                   0.000000\n",
       "1  CoapplicantIncome                      0                   0.000000"
      ]
     },
     "execution_count": 78,
     "metadata": {},
     "output_type": "execute_result"
    }
   ],
   "source": [
    "null_value_train = pd.DataFrame(train[[col for col in numerical_columns]].isnull().sum()).reset_index()\n",
    "null_value_train = null_value_train.rename(columns = {'index': 'Column Name', 0: 'Number of Null Values'}, inplace = False)\n",
    "null_value_train['Percentage of Null Values'] = (null_value_train['Number of Null Values']/len(train)*100) \n",
    "null_value_train.sort_values(by = 'Percentage of Null Values', ascending = False).head()"
   ]
  },
  {
   "cell_type": "markdown",
   "id": "cdbcea0f",
   "metadata": {},
   "source": [
    "- Null Values in LoanAmount\n",
    "- Loan amount is directly proportional with ApplicantIncome\n",
    "- Loan amount is directly proportional with number of dependents\n",
    "- Married couples have high LoanAmount\n",
    "- Male Applicants have higher LoanAmount\n",
    "- Graduate Applicants have hight LoanAmount"
   ]
  },
  {
   "cell_type": "code",
   "execution_count": 79,
   "id": "37db18b6",
   "metadata": {},
   "outputs": [],
   "source": [
    "null_loanamt = train[train['LoanAmount'].isnull()]"
   ]
  },
  {
   "cell_type": "code",
   "execution_count": 80,
   "id": "5d33bbf2",
   "metadata": {
    "scrolled": false
   },
   "outputs": [
    {
     "name": "stdout",
     "output_type": "stream",
     "text": [
      "Gender :\n",
      "0.0\n",
      "---------------------------------------------\n",
      "Married :\n",
      "0.1000365003041953\n",
      "---------------------------------------------\n",
      "Dependents :\n",
      "0.0\n",
      "---------------------------------------------\n",
      "Education :\n",
      "0.0\n",
      "---------------------------------------------\n",
      "Self_Employed :\n",
      "0.09684164251580472\n",
      "---------------------------------------------\n",
      "Property_Area :\n",
      "0.11176338722143568\n",
      "---------------------------------------------\n",
      "Loan_Amount_Term :\n",
      "0.0574217111206843\n",
      "---------------------------------------------\n",
      "Credit_History :\n",
      "0.12012779172474554\n",
      "---------------------------------------------\n",
      "Loan_Status :\n",
      "0.057951913642535546\n",
      "******************************************************************************************\n",
      "ApplicantIncome :\n",
      "0.1441249787392782\n",
      "---------------------------------------------\n",
      "CoapplicantIncome :\n",
      "0.0\n",
      "---------------------------------------------\n",
      "LoanAmount :\n",
      "1.0\n",
      "---------------------------------------------\n"
     ]
    }
   ],
   "source": [
    "# ChiSquared for LoanAmount\n",
    "def cramers_v(x, y):\n",
    "    import scipy.stats as ss\n",
    "    confusion_matrix = pd.crosstab(x,y)\n",
    "    chi2 = ss.chi2_contingency(confusion_matrix)[0]\n",
    "    n = confusion_matrix.sum().sum()\n",
    "    phi2 = chi2/n\n",
    "    r,k = confusion_matrix.shape\n",
    "    phi2corr = max(0, phi2-((k-1)*(r-1))/(n-1))\n",
    "    rcorr = r-((r-1)**2)/(n-1)\n",
    "    kcorr = k-((k-1)**2)/(n-1)\n",
    "    return np.sqrt(phi2corr/min((kcorr-1),(rcorr-1)))\n",
    "\n",
    "for i in categorical_columns: \n",
    "    print(i, \":\")\n",
    "    print(cramers_v(train['LoanAmount'], train[i]))\n",
    "    print(\"---\"*15)\n",
    "print(\"Loan_Amount_Term\", \":\")\n",
    "print(cramers_v(train['LoanAmount'], train['Loan_Amount_Term']))\n",
    "print(\"---\"*15)\n",
    "print(\"Credit_History\", \":\")\n",
    "print(cramers_v(train['LoanAmount'], train['Credit_History']))\n",
    "print(\"---\"*15)\n",
    "print(\"Loan_Status\", \":\")\n",
    "print(cramers_v(train['LoanAmount'], train['Loan_Status']))\n",
    "\n",
    "print(\"***\"*30)\n",
    "\n",
    "for i in numerical_columns: \n",
    "    print(i, \":\")\n",
    "    print(cramers_v(train['LoanAmount'], train[i]))\n",
    "    print(\"---\"*15)"
   ]
  },
  {
   "cell_type": "markdown",
   "id": "ccfadc9a",
   "metadata": {},
   "source": [
    "- LoanAmount is correlated strongly with Applicant Income, Credit_History, Property_Area, Married and Self_Employed."
   ]
  },
  {
   "cell_type": "markdown",
   "id": "7e3b6718",
   "metadata": {},
   "source": [
    "##### Checking for outliers in \"LoanAmount\""
   ]
  },
  {
   "cell_type": "code",
   "execution_count": 81,
   "id": "a7bc42ac",
   "metadata": {},
   "outputs": [],
   "source": [
    "Q1 = train['LoanAmount'].quantile(0.25)\n",
    "Q3 = train['LoanAmount'].quantile(0.75)\n",
    "IQR = Q3 - Q1"
   ]
  },
  {
   "cell_type": "code",
   "execution_count": 82,
   "id": "cb652e1e",
   "metadata": {
    "scrolled": true
   },
   "outputs": [
    {
     "name": "stdout",
     "output_type": "stream",
     "text": [
      "Low_limit is -2.0\n",
      "Up_limit is 270.0\n"
     ]
    }
   ],
   "source": [
    "low_lim = Q1 - 1.5 * IQR\n",
    "up_lim = Q3 + 1.5 * IQR\n",
    "print('Low_limit is', low_lim)\n",
    "print('Up_limit is', up_lim)"
   ]
  },
  {
   "cell_type": "code",
   "execution_count": 83,
   "id": "b49d0061",
   "metadata": {
    "scrolled": true
   },
   "outputs": [
    {
     "name": "stdout",
     "output_type": "stream",
     "text": [
      "The following is a list of outliers present in the dataset: [349.0, 315.0, 320.0, 286.0, 312.0, 370.0, 650.0, 290.0, 600.0, 275.0, 700.0, 495.0, 280.0, 279.0, 304.0, 330.0, 436.0, 480.0, 300.0, 376.0, 490.0, 308.0, 570.0, 380.0, 296.0, 275.0, 360.0, 405.0, 500.0, 480.0, 311.0, 480.0, 400.0, 324.0, 600.0, 275.0, 292.0, 350.0, 496.0]\n"
     ]
    }
   ],
   "source": [
    "outliers = []\n",
    "for x in train['LoanAmount']:\n",
    "    if ((x > up_lim) or (x < low_lim)):\n",
    "         outliers.append(x)\n",
    "print('The following is a list of outliers present in the dataset:', outliers)"
   ]
  },
  {
   "cell_type": "code",
   "execution_count": 84,
   "id": "7cb8d67c",
   "metadata": {},
   "outputs": [
    {
     "data": {
      "text/plain": [
       "39"
      ]
     },
     "execution_count": 84,
     "metadata": {},
     "output_type": "execute_result"
    }
   ],
   "source": [
    "len(outliers)"
   ]
  },
  {
   "cell_type": "markdown",
   "id": "282e140d",
   "metadata": {},
   "source": [
    "- 6.5% of the data are outliers, so we will not remove the outliers from the dataset.\n",
    "\n",
    "\n",
    "- We will replace the NaN values with the median because the median is not affected by the outliers."
   ]
  },
  {
   "cell_type": "code",
   "execution_count": 85,
   "id": "3459a814",
   "metadata": {},
   "outputs": [],
   "source": [
    "train['LoanAmount'] = train.groupby('Dependents')['LoanAmount'].transform(lambda x: x.fillna(x.median()))"
   ]
  },
  {
   "cell_type": "markdown",
   "id": "e06db0db",
   "metadata": {},
   "source": [
    "##### Missing Value Detection"
   ]
  },
  {
   "cell_type": "code",
   "execution_count": 86,
   "id": "4ecffd3f",
   "metadata": {
    "scrolled": true
   },
   "outputs": [
    {
     "data": {
      "text/plain": [
       "Gender               0\n",
       "Married              0\n",
       "Dependents           0\n",
       "Education            0\n",
       "Self_Employed        0\n",
       "ApplicantIncome      0\n",
       "CoapplicantIncome    0\n",
       "LoanAmount           0\n",
       "Loan_Amount_Term     0\n",
       "Credit_History       0\n",
       "Property_Area        0\n",
       "Loan_Status          0\n",
       "dtype: int64"
      ]
     },
     "execution_count": 86,
     "metadata": {},
     "output_type": "execute_result"
    }
   ],
   "source": [
    "train.isna().sum()"
   ]
  },
  {
   "cell_type": "markdown",
   "id": "93f921ed",
   "metadata": {},
   "source": [
    "- Missing values has now been handled."
   ]
  },
  {
   "cell_type": "markdown",
   "id": "86cf9244",
   "metadata": {},
   "source": [
    "##### DataType conversion"
   ]
  },
  {
   "cell_type": "code",
   "execution_count": 87,
   "id": "128e24c4",
   "metadata": {},
   "outputs": [
    {
     "data": {
      "text/plain": [
       "dtype('int64')"
      ]
     },
     "execution_count": 87,
     "metadata": {},
     "output_type": "execute_result"
    }
   ],
   "source": [
    "train['Dependents']=train['Dependents'].astype('int64')\n",
    "train['Dependents'].dtype"
   ]
  },
  {
   "cell_type": "markdown",
   "id": "353cce8d",
   "metadata": {},
   "source": [
    "##### Fetching all object data type columns to covert"
   ]
  },
  {
   "cell_type": "code",
   "execution_count": 88,
   "id": "3ecc0de6",
   "metadata": {},
   "outputs": [
    {
     "data": {
      "text/plain": [
       "Index(['Gender', 'Married', 'Education', 'Self_Employed', 'Property_Area',\n",
       "       'Loan_Status'],\n",
       "      dtype='object')"
      ]
     },
     "execution_count": 88,
     "metadata": {},
     "output_type": "execute_result"
    }
   ],
   "source": [
    "obj_cols=train.select_dtypes('object').columns\n",
    "obj_cols"
   ]
  },
  {
   "cell_type": "markdown",
   "id": "4c5e2278",
   "metadata": {},
   "source": [
    "### Data encoding"
   ]
  },
  {
   "cell_type": "code",
   "execution_count": 89,
   "id": "bde04c6d",
   "metadata": {},
   "outputs": [
    {
     "data": {
      "text/html": [
       "<div>\n",
       "<style scoped>\n",
       "    .dataframe tbody tr th:only-of-type {\n",
       "        vertical-align: middle;\n",
       "    }\n",
       "\n",
       "    .dataframe tbody tr th {\n",
       "        vertical-align: top;\n",
       "    }\n",
       "\n",
       "    .dataframe thead th {\n",
       "        text-align: right;\n",
       "    }\n",
       "</style>\n",
       "<table border=\"1\" class=\"dataframe\">\n",
       "  <thead>\n",
       "    <tr style=\"text-align: right;\">\n",
       "      <th></th>\n",
       "      <th>Gender</th>\n",
       "      <th>Married</th>\n",
       "      <th>Dependents</th>\n",
       "      <th>Education</th>\n",
       "      <th>Self_Employed</th>\n",
       "      <th>ApplicantIncome</th>\n",
       "      <th>CoapplicantIncome</th>\n",
       "      <th>LoanAmount</th>\n",
       "      <th>Loan_Amount_Term</th>\n",
       "      <th>Credit_History</th>\n",
       "      <th>Property_Area</th>\n",
       "      <th>Loan_Status</th>\n",
       "    </tr>\n",
       "  </thead>\n",
       "  <tbody>\n",
       "    <tr>\n",
       "      <th>0</th>\n",
       "      <td>1.0</td>\n",
       "      <td>0.0</td>\n",
       "      <td>0</td>\n",
       "      <td>0.0</td>\n",
       "      <td>0.0</td>\n",
       "      <td>5849</td>\n",
       "      <td>0.0</td>\n",
       "      <td>120.0</td>\n",
       "      <td>360.0</td>\n",
       "      <td>1.0</td>\n",
       "      <td>2.0</td>\n",
       "      <td>1.0</td>\n",
       "    </tr>\n",
       "    <tr>\n",
       "      <th>1</th>\n",
       "      <td>1.0</td>\n",
       "      <td>1.0</td>\n",
       "      <td>1</td>\n",
       "      <td>0.0</td>\n",
       "      <td>0.0</td>\n",
       "      <td>4583</td>\n",
       "      <td>1508.0</td>\n",
       "      <td>128.0</td>\n",
       "      <td>360.0</td>\n",
       "      <td>1.0</td>\n",
       "      <td>0.0</td>\n",
       "      <td>0.0</td>\n",
       "    </tr>\n",
       "    <tr>\n",
       "      <th>2</th>\n",
       "      <td>1.0</td>\n",
       "      <td>1.0</td>\n",
       "      <td>0</td>\n",
       "      <td>0.0</td>\n",
       "      <td>1.0</td>\n",
       "      <td>3000</td>\n",
       "      <td>0.0</td>\n",
       "      <td>66.0</td>\n",
       "      <td>360.0</td>\n",
       "      <td>1.0</td>\n",
       "      <td>2.0</td>\n",
       "      <td>1.0</td>\n",
       "    </tr>\n",
       "    <tr>\n",
       "      <th>3</th>\n",
       "      <td>1.0</td>\n",
       "      <td>1.0</td>\n",
       "      <td>0</td>\n",
       "      <td>1.0</td>\n",
       "      <td>0.0</td>\n",
       "      <td>2583</td>\n",
       "      <td>2358.0</td>\n",
       "      <td>120.0</td>\n",
       "      <td>360.0</td>\n",
       "      <td>1.0</td>\n",
       "      <td>2.0</td>\n",
       "      <td>1.0</td>\n",
       "    </tr>\n",
       "    <tr>\n",
       "      <th>4</th>\n",
       "      <td>1.0</td>\n",
       "      <td>0.0</td>\n",
       "      <td>0</td>\n",
       "      <td>0.0</td>\n",
       "      <td>0.0</td>\n",
       "      <td>6000</td>\n",
       "      <td>0.0</td>\n",
       "      <td>141.0</td>\n",
       "      <td>360.0</td>\n",
       "      <td>1.0</td>\n",
       "      <td>2.0</td>\n",
       "      <td>1.0</td>\n",
       "    </tr>\n",
       "  </tbody>\n",
       "</table>\n",
       "</div>"
      ],
      "text/plain": [
       "   Gender  Married  Dependents  Education  Self_Employed  ApplicantIncome  \\\n",
       "0     1.0      0.0           0        0.0            0.0             5849   \n",
       "1     1.0      1.0           1        0.0            0.0             4583   \n",
       "2     1.0      1.0           0        0.0            1.0             3000   \n",
       "3     1.0      1.0           0        1.0            0.0             2583   \n",
       "4     1.0      0.0           0        0.0            0.0             6000   \n",
       "\n",
       "   CoapplicantIncome  LoanAmount  Loan_Amount_Term  Credit_History  \\\n",
       "0                0.0       120.0             360.0             1.0   \n",
       "1             1508.0       128.0             360.0             1.0   \n",
       "2                0.0        66.0             360.0             1.0   \n",
       "3             2358.0       120.0             360.0             1.0   \n",
       "4                0.0       141.0             360.0             1.0   \n",
       "\n",
       "   Property_Area  Loan_Status  \n",
       "0            2.0          1.0  \n",
       "1            0.0          0.0  \n",
       "2            2.0          1.0  \n",
       "3            2.0          1.0  \n",
       "4            2.0          1.0  "
      ]
     },
     "execution_count": 89,
     "metadata": {},
     "output_type": "execute_result"
    }
   ],
   "source": [
    "oe = OrdinalEncoder()\n",
    "train[obj_cols] = train[obj_cols].astype(str)\n",
    "train[obj_cols] = oe.fit_transform(train[obj_cols])\n",
    "train.head()"
   ]
  },
  {
   "cell_type": "markdown",
   "id": "100cbefa",
   "metadata": {},
   "source": [
    "### Standardization"
   ]
  },
  {
   "cell_type": "code",
   "execution_count": 90,
   "id": "c4842fb8",
   "metadata": {},
   "outputs": [
    {
     "data": {
      "text/html": [
       "<div>\n",
       "<style scoped>\n",
       "    .dataframe tbody tr th:only-of-type {\n",
       "        vertical-align: middle;\n",
       "    }\n",
       "\n",
       "    .dataframe tbody tr th {\n",
       "        vertical-align: top;\n",
       "    }\n",
       "\n",
       "    .dataframe thead th {\n",
       "        text-align: right;\n",
       "    }\n",
       "</style>\n",
       "<table border=\"1\" class=\"dataframe\">\n",
       "  <thead>\n",
       "    <tr style=\"text-align: right;\">\n",
       "      <th></th>\n",
       "      <th>Gender</th>\n",
       "      <th>Married</th>\n",
       "      <th>Dependents</th>\n",
       "      <th>Education</th>\n",
       "      <th>Self_Employed</th>\n",
       "      <th>ApplicantIncome</th>\n",
       "      <th>CoapplicantIncome</th>\n",
       "      <th>LoanAmount</th>\n",
       "      <th>Loan_Amount_Term</th>\n",
       "      <th>Credit_History</th>\n",
       "      <th>Property_Area</th>\n",
       "      <th>Loan_Status</th>\n",
       "    </tr>\n",
       "  </thead>\n",
       "  <tbody>\n",
       "    <tr>\n",
       "      <th>0</th>\n",
       "      <td>0.472343</td>\n",
       "      <td>-1.372089</td>\n",
       "      <td>-0.737806</td>\n",
       "      <td>-0.528362</td>\n",
       "      <td>-0.392601</td>\n",
       "      <td>0.072991</td>\n",
       "      <td>-0.554487</td>\n",
       "      <td>-0.306280</td>\n",
       "      <td>0.273231</td>\n",
       "      <td>0.411733</td>\n",
       "      <td>1.223298</td>\n",
       "      <td>1.0</td>\n",
       "    </tr>\n",
       "    <tr>\n",
       "      <th>1</th>\n",
       "      <td>0.472343</td>\n",
       "      <td>0.728816</td>\n",
       "      <td>0.253470</td>\n",
       "      <td>-0.528362</td>\n",
       "      <td>-0.392601</td>\n",
       "      <td>-0.134412</td>\n",
       "      <td>-0.038732</td>\n",
       "      <td>-0.211104</td>\n",
       "      <td>0.273231</td>\n",
       "      <td>0.411733</td>\n",
       "      <td>-1.318513</td>\n",
       "      <td>0.0</td>\n",
       "    </tr>\n",
       "    <tr>\n",
       "      <th>2</th>\n",
       "      <td>0.472343</td>\n",
       "      <td>0.728816</td>\n",
       "      <td>-0.737806</td>\n",
       "      <td>-0.528362</td>\n",
       "      <td>2.547117</td>\n",
       "      <td>-0.393747</td>\n",
       "      <td>-0.554487</td>\n",
       "      <td>-0.948719</td>\n",
       "      <td>0.273231</td>\n",
       "      <td>0.411733</td>\n",
       "      <td>1.223298</td>\n",
       "      <td>1.0</td>\n",
       "    </tr>\n",
       "    <tr>\n",
       "      <th>3</th>\n",
       "      <td>0.472343</td>\n",
       "      <td>0.728816</td>\n",
       "      <td>-0.737806</td>\n",
       "      <td>1.892641</td>\n",
       "      <td>-0.392601</td>\n",
       "      <td>-0.462062</td>\n",
       "      <td>0.251980</td>\n",
       "      <td>-0.306280</td>\n",
       "      <td>0.273231</td>\n",
       "      <td>0.411733</td>\n",
       "      <td>1.223298</td>\n",
       "      <td>1.0</td>\n",
       "    </tr>\n",
       "    <tr>\n",
       "      <th>4</th>\n",
       "      <td>0.472343</td>\n",
       "      <td>-1.372089</td>\n",
       "      <td>-0.737806</td>\n",
       "      <td>-0.528362</td>\n",
       "      <td>-0.392601</td>\n",
       "      <td>0.097728</td>\n",
       "      <td>-0.554487</td>\n",
       "      <td>-0.056443</td>\n",
       "      <td>0.273231</td>\n",
       "      <td>0.411733</td>\n",
       "      <td>1.223298</td>\n",
       "      <td>1.0</td>\n",
       "    </tr>\n",
       "  </tbody>\n",
       "</table>\n",
       "</div>"
      ],
      "text/plain": [
       "     Gender   Married  Dependents  Education  Self_Employed  ApplicantIncome  \\\n",
       "0  0.472343 -1.372089   -0.737806  -0.528362      -0.392601         0.072991   \n",
       "1  0.472343  0.728816    0.253470  -0.528362      -0.392601        -0.134412   \n",
       "2  0.472343  0.728816   -0.737806  -0.528362       2.547117        -0.393747   \n",
       "3  0.472343  0.728816   -0.737806   1.892641      -0.392601        -0.462062   \n",
       "4  0.472343 -1.372089   -0.737806  -0.528362      -0.392601         0.097728   \n",
       "\n",
       "   CoapplicantIncome  LoanAmount  Loan_Amount_Term  Credit_History  \\\n",
       "0          -0.554487   -0.306280          0.273231        0.411733   \n",
       "1          -0.038732   -0.211104          0.273231        0.411733   \n",
       "2          -0.554487   -0.948719          0.273231        0.411733   \n",
       "3           0.251980   -0.306280          0.273231        0.411733   \n",
       "4          -0.554487   -0.056443          0.273231        0.411733   \n",
       "\n",
       "   Property_Area  Loan_Status  \n",
       "0       1.223298          1.0  \n",
       "1      -1.318513          0.0  \n",
       "2       1.223298          1.0  \n",
       "3       1.223298          1.0  \n",
       "4       1.223298          1.0  "
      ]
     },
     "execution_count": 90,
     "metadata": {},
     "output_type": "execute_result"
    }
   ],
   "source": [
    "from sklearn.preprocessing import StandardScaler\n",
    "ss = StandardScaler()\n",
    "train.iloc[:,:-1] = ss.fit_transform(train.iloc[:,:-1])\n",
    "train.head()"
   ]
  },
  {
   "cell_type": "markdown",
   "id": "0ebbfbab",
   "metadata": {},
   "source": [
    "### Splitting dataset - Separating data and label"
   ]
  },
  {
   "cell_type": "code",
   "execution_count": 91,
   "id": "d2f87f24",
   "metadata": {
    "scrolled": true
   },
   "outputs": [
    {
     "data": {
      "text/html": [
       "<div>\n",
       "<style scoped>\n",
       "    .dataframe tbody tr th:only-of-type {\n",
       "        vertical-align: middle;\n",
       "    }\n",
       "\n",
       "    .dataframe tbody tr th {\n",
       "        vertical-align: top;\n",
       "    }\n",
       "\n",
       "    .dataframe thead th {\n",
       "        text-align: right;\n",
       "    }\n",
       "</style>\n",
       "<table border=\"1\" class=\"dataframe\">\n",
       "  <thead>\n",
       "    <tr style=\"text-align: right;\">\n",
       "      <th></th>\n",
       "      <th>Gender</th>\n",
       "      <th>Married</th>\n",
       "      <th>Dependents</th>\n",
       "      <th>Education</th>\n",
       "      <th>Self_Employed</th>\n",
       "      <th>ApplicantIncome</th>\n",
       "      <th>CoapplicantIncome</th>\n",
       "      <th>LoanAmount</th>\n",
       "      <th>Loan_Amount_Term</th>\n",
       "      <th>Credit_History</th>\n",
       "      <th>Property_Area</th>\n",
       "    </tr>\n",
       "  </thead>\n",
       "  <tbody>\n",
       "    <tr>\n",
       "      <th>0</th>\n",
       "      <td>0.472343</td>\n",
       "      <td>-1.372089</td>\n",
       "      <td>-0.737806</td>\n",
       "      <td>-0.528362</td>\n",
       "      <td>-0.392601</td>\n",
       "      <td>0.072991</td>\n",
       "      <td>-0.554487</td>\n",
       "      <td>-0.306280</td>\n",
       "      <td>0.273231</td>\n",
       "      <td>0.411733</td>\n",
       "      <td>1.223298</td>\n",
       "    </tr>\n",
       "    <tr>\n",
       "      <th>1</th>\n",
       "      <td>0.472343</td>\n",
       "      <td>0.728816</td>\n",
       "      <td>0.253470</td>\n",
       "      <td>-0.528362</td>\n",
       "      <td>-0.392601</td>\n",
       "      <td>-0.134412</td>\n",
       "      <td>-0.038732</td>\n",
       "      <td>-0.211104</td>\n",
       "      <td>0.273231</td>\n",
       "      <td>0.411733</td>\n",
       "      <td>-1.318513</td>\n",
       "    </tr>\n",
       "    <tr>\n",
       "      <th>2</th>\n",
       "      <td>0.472343</td>\n",
       "      <td>0.728816</td>\n",
       "      <td>-0.737806</td>\n",
       "      <td>-0.528362</td>\n",
       "      <td>2.547117</td>\n",
       "      <td>-0.393747</td>\n",
       "      <td>-0.554487</td>\n",
       "      <td>-0.948719</td>\n",
       "      <td>0.273231</td>\n",
       "      <td>0.411733</td>\n",
       "      <td>1.223298</td>\n",
       "    </tr>\n",
       "    <tr>\n",
       "      <th>3</th>\n",
       "      <td>0.472343</td>\n",
       "      <td>0.728816</td>\n",
       "      <td>-0.737806</td>\n",
       "      <td>1.892641</td>\n",
       "      <td>-0.392601</td>\n",
       "      <td>-0.462062</td>\n",
       "      <td>0.251980</td>\n",
       "      <td>-0.306280</td>\n",
       "      <td>0.273231</td>\n",
       "      <td>0.411733</td>\n",
       "      <td>1.223298</td>\n",
       "    </tr>\n",
       "    <tr>\n",
       "      <th>4</th>\n",
       "      <td>0.472343</td>\n",
       "      <td>-1.372089</td>\n",
       "      <td>-0.737806</td>\n",
       "      <td>-0.528362</td>\n",
       "      <td>-0.392601</td>\n",
       "      <td>0.097728</td>\n",
       "      <td>-0.554487</td>\n",
       "      <td>-0.056443</td>\n",
       "      <td>0.273231</td>\n",
       "      <td>0.411733</td>\n",
       "      <td>1.223298</td>\n",
       "    </tr>\n",
       "  </tbody>\n",
       "</table>\n",
       "</div>"
      ],
      "text/plain": [
       "     Gender   Married  Dependents  Education  Self_Employed  ApplicantIncome  \\\n",
       "0  0.472343 -1.372089   -0.737806  -0.528362      -0.392601         0.072991   \n",
       "1  0.472343  0.728816    0.253470  -0.528362      -0.392601        -0.134412   \n",
       "2  0.472343  0.728816   -0.737806  -0.528362       2.547117        -0.393747   \n",
       "3  0.472343  0.728816   -0.737806   1.892641      -0.392601        -0.462062   \n",
       "4  0.472343 -1.372089   -0.737806  -0.528362      -0.392601         0.097728   \n",
       "\n",
       "   CoapplicantIncome  LoanAmount  Loan_Amount_Term  Credit_History  \\\n",
       "0          -0.554487   -0.306280          0.273231        0.411733   \n",
       "1          -0.038732   -0.211104          0.273231        0.411733   \n",
       "2          -0.554487   -0.948719          0.273231        0.411733   \n",
       "3           0.251980   -0.306280          0.273231        0.411733   \n",
       "4          -0.554487   -0.056443          0.273231        0.411733   \n",
       "\n",
       "   Property_Area  \n",
       "0       1.223298  \n",
       "1      -1.318513  \n",
       "2       1.223298  \n",
       "3       1.223298  \n",
       "4       1.223298  "
      ]
     },
     "execution_count": 91,
     "metadata": {},
     "output_type": "execute_result"
    }
   ],
   "source": [
    "x = train.iloc[:,:-1] #Features\n",
    "y = train.iloc[:,-1] #Target\n",
    "x.head()"
   ]
  },
  {
   "cell_type": "code",
   "execution_count": 92,
   "id": "7f42c36c",
   "metadata": {},
   "outputs": [
    {
     "name": "stdout",
     "output_type": "stream",
     "text": [
      "{0.0: 192, 1.0: 422}\n"
     ]
    }
   ],
   "source": [
    "unique, counts = np.unique(y, return_counts=True)\n",
    "class_counts = dict(zip(unique, counts))\n",
    "print(class_counts)"
   ]
  },
  {
   "cell_type": "markdown",
   "id": "ff4d8569",
   "metadata": {},
   "source": [
    "### Oversampling"
   ]
  },
  {
   "cell_type": "code",
   "execution_count": 93,
   "id": "0642ff8e",
   "metadata": {},
   "outputs": [
    {
     "name": "stdout",
     "output_type": "stream",
     "text": [
      "{0: 947, 1: 947}\n"
     ]
    }
   ],
   "source": [
    "from imblearn.over_sampling import SMOTE\n",
    "from sklearn.datasets import make_classification\n",
    "\n",
    "# Générer un exemple d'ensemble de données déséquilibré\n",
    "X, y = make_classification(n_samples=1000, weights=[0.95, 0.05], random_state=42)\n",
    "\n",
    "# Appliquer l'oversampling avec SMOTE\n",
    "oversampler = SMOTE()\n",
    "X_resampled, y_resampled = oversampler.fit_resample(X, y)\n",
    "\n",
    "# Vérifier les nouvelles proportions des classes\n",
    "unique, counts = np.unique(y_resampled, return_counts=True)\n",
    "class_counts = dict(zip(unique, counts))\n",
    "print(class_counts)"
   ]
  },
  {
   "cell_type": "markdown",
   "id": "5bbb52c3",
   "metadata": {},
   "source": [
    "### Train-Test split on the dataset"
   ]
  },
  {
   "cell_type": "code",
   "execution_count": 94,
   "id": "b0429263",
   "metadata": {},
   "outputs": [
    {
     "name": "stdout",
     "output_type": "stream",
     "text": [
      "(1420, 20) (1420,) (474, 20) (474,)\n"
     ]
    }
   ],
   "source": [
    "from sklearn.model_selection import train_test_split\n",
    "xtrain, xtest, ytrain, ytest = train_test_split(X_resampled,y_resampled,random_state = 4, test_size = 0.25, stratify = y_resampled)\n",
    "print(xtrain.shape,ytrain.shape,xtest.shape,ytest.shape)"
   ]
  },
  {
   "cell_type": "markdown",
   "id": "6fa45f87",
   "metadata": {},
   "source": [
    "## Making Machine Learning Models to choose the ideal one"
   ]
  },
  {
   "cell_type": "code",
   "execution_count": 95,
   "id": "88ee0dca",
   "metadata": {},
   "outputs": [],
   "source": [
    "def mymodel(model):\n",
    "    model.fit(xtrain,ytrain)\n",
    "    ypred = model.predict(xtest)\n",
    "    train_accuracy = model.score(xtrain,ytrain)\n",
    "    test_accuracy = model.score(xtest, ytest)\n",
    "    print(str(model)[:-2], 'Accuracy')\n",
    "    print('Accuracy : ', accuracy_score(ytest,ypred), \"\\nClassification Report : \\n\", classification_report(ytest, ypred), '\\nConfusion Matrix : \\n', confusion_matrix(ytest, ypred))\n",
    "    print(f'Training Accuracy: {train_accuracy}\\nTesting Accuracy: {test_accuracy}')\n",
    "    print()\n",
    "    print()\n",
    "    return model"
   ]
  },
  {
   "cell_type": "markdown",
   "id": "a0fb0840",
   "metadata": {},
   "source": [
    "### Importing Libraries foe Accuracy score, Confusion Matrix and Classification Report"
   ]
  },
  {
   "cell_type": "code",
   "execution_count": 96,
   "id": "ddcd1129",
   "metadata": {},
   "outputs": [],
   "source": [
    "from sklearn.metrics import accuracy_score, confusion_matrix, classification_report"
   ]
  },
  {
   "cell_type": "markdown",
   "id": "a8e7b0e3",
   "metadata": {},
   "source": [
    "### 1. Using KNN (K-Nearest Neighbors)"
   ]
  },
  {
   "cell_type": "code",
   "execution_count": 97,
   "id": "20ae6bf2",
   "metadata": {},
   "outputs": [
    {
     "name": "stdout",
     "output_type": "stream",
     "text": [
      "KNeighborsClassifier Accuracy\n",
      "Accuracy :  0.8860759493670886 \n",
      "Classification Report : \n",
      "               precision    recall  f1-score   support\n",
      "\n",
      "           0       1.00      0.77      0.87       237\n",
      "           1       0.81      1.00      0.90       237\n",
      "\n",
      "    accuracy                           0.89       474\n",
      "   macro avg       0.91      0.89      0.88       474\n",
      "weighted avg       0.91      0.89      0.88       474\n",
      " \n",
      "Confusion Matrix : \n",
      " [[183  54]\n",
      " [  0 237]]\n",
      "Training Accuracy: 0.923943661971831\n",
      "Testing Accuracy: 0.8860759493670886\n",
      "\n",
      "\n"
     ]
    }
   ],
   "source": [
    "from sklearn.neighbors import KNeighborsClassifier\n",
    "knn = mymodel(KNeighborsClassifier())"
   ]
  },
  {
   "cell_type": "markdown",
   "id": "acecfb06",
   "metadata": {},
   "source": [
    "### 2. Using SVM Model"
   ]
  },
  {
   "cell_type": "code",
   "execution_count": 98,
   "id": "890fea0c",
   "metadata": {},
   "outputs": [
    {
     "name": "stdout",
     "output_type": "stream",
     "text": [
      "SVC Accuracy\n",
      "Accuracy :  0.9852320675105485 \n",
      "Classification Report : \n",
      "               precision    recall  f1-score   support\n",
      "\n",
      "           0       1.00      0.97      0.99       237\n",
      "           1       0.97      1.00      0.99       237\n",
      "\n",
      "    accuracy                           0.99       474\n",
      "   macro avg       0.99      0.99      0.99       474\n",
      "weighted avg       0.99      0.99      0.99       474\n",
      " \n",
      "Confusion Matrix : \n",
      " [[230   7]\n",
      " [  0 237]]\n",
      "Training Accuracy: 0.9950704225352113\n",
      "Testing Accuracy: 0.9852320675105485\n",
      "\n",
      "\n"
     ]
    }
   ],
   "source": [
    "from sklearn.svm import SVC\n",
    "svc = mymodel(SVC())"
   ]
  },
  {
   "cell_type": "markdown",
   "id": "5ec57bf6",
   "metadata": {},
   "source": [
    "### 3. Using Decision Tree Model"
   ]
  },
  {
   "cell_type": "code",
   "execution_count": 99,
   "id": "e7c915ad",
   "metadata": {},
   "outputs": [
    {
     "name": "stdout",
     "output_type": "stream",
     "text": [
      "DecisionTreeClassifier Accuracy\n",
      "Accuracy :  0.9388185654008439 \n",
      "Classification Report : \n",
      "               precision    recall  f1-score   support\n",
      "\n",
      "           0       0.95      0.92      0.94       237\n",
      "           1       0.93      0.95      0.94       237\n",
      "\n",
      "    accuracy                           0.94       474\n",
      "   macro avg       0.94      0.94      0.94       474\n",
      "weighted avg       0.94      0.94      0.94       474\n",
      " \n",
      "Confusion Matrix : \n",
      " [[219  18]\n",
      " [ 11 226]]\n",
      "Training Accuracy: 1.0\n",
      "Testing Accuracy: 0.9388185654008439\n",
      "\n",
      "\n"
     ]
    }
   ],
   "source": [
    "from sklearn.tree import DecisionTreeClassifier\n",
    "dt= mymodel(DecisionTreeClassifier())"
   ]
  },
  {
   "cell_type": "markdown",
   "id": "315cdad5",
   "metadata": {},
   "source": [
    "### 4. Using Logistic Regression Model"
   ]
  },
  {
   "cell_type": "code",
   "execution_count": 100,
   "id": "386718f1",
   "metadata": {},
   "outputs": [
    {
     "name": "stdout",
     "output_type": "stream",
     "text": [
      "LogisticRegression Accuracy\n",
      "Accuracy :  0.890295358649789 \n",
      "Classification Report : \n",
      "               precision    recall  f1-score   support\n",
      "\n",
      "           0       0.88      0.91      0.89       237\n",
      "           1       0.90      0.87      0.89       237\n",
      "\n",
      "    accuracy                           0.89       474\n",
      "   macro avg       0.89      0.89      0.89       474\n",
      "weighted avg       0.89      0.89      0.89       474\n",
      " \n",
      "Confusion Matrix : \n",
      " [[215  22]\n",
      " [ 30 207]]\n",
      "Training Accuracy: 0.8823943661971831\n",
      "Testing Accuracy: 0.890295358649789\n",
      "\n",
      "\n"
     ]
    }
   ],
   "source": [
    "from sklearn.linear_model import LogisticRegression\n",
    "lr = mymodel(LogisticRegression())"
   ]
  },
  {
   "cell_type": "markdown",
   "id": "14a2a001",
   "metadata": {},
   "source": [
    "### 5. Using Gaussian Naïve Bayes Model"
   ]
  },
  {
   "cell_type": "code",
   "execution_count": 101,
   "id": "d0e7cc6f",
   "metadata": {},
   "outputs": [
    {
     "name": "stdout",
     "output_type": "stream",
     "text": [
      "GaussianNB Accuracy\n",
      "Accuracy :  0.8924050632911392 \n",
      "Classification Report : \n",
      "               precision    recall  f1-score   support\n",
      "\n",
      "           0       0.86      0.94      0.90       237\n",
      "           1       0.93      0.85      0.89       237\n",
      "\n",
      "    accuracy                           0.89       474\n",
      "   macro avg       0.90      0.89      0.89       474\n",
      "weighted avg       0.90      0.89      0.89       474\n",
      " \n",
      "Confusion Matrix : \n",
      " [[222  15]\n",
      " [ 36 201]]\n",
      "Training Accuracy: 0.8746478873239436\n",
      "Testing Accuracy: 0.8924050632911392\n",
      "\n",
      "\n"
     ]
    }
   ],
   "source": [
    "from sklearn.naive_bayes import GaussianNB\n",
    "gnb = mymodel(GaussianNB())"
   ]
  },
  {
   "cell_type": "markdown",
   "id": "b0079b7e",
   "metadata": {},
   "source": [
    "### 6. Using Random Forest Model"
   ]
  },
  {
   "cell_type": "code",
   "execution_count": 102,
   "id": "7890b7f6",
   "metadata": {
    "scrolled": true
   },
   "outputs": [
    {
     "name": "stdout",
     "output_type": "stream",
     "text": [
      "RandomForestClassifier(max_depth=10, min_samples_leaf=12, n_estimators=8 Accuracy\n",
      "Accuracy :  0.919831223628692 \n",
      "Classification Report : \n",
      "               precision    recall  f1-score   support\n",
      "\n",
      "           0       0.90      0.94      0.92       237\n",
      "           1       0.94      0.90      0.92       237\n",
      "\n",
      "    accuracy                           0.92       474\n",
      "   macro avg       0.92      0.92      0.92       474\n",
      "weighted avg       0.92      0.92      0.92       474\n",
      " \n",
      "Confusion Matrix : \n",
      " [[223  14]\n",
      " [ 24 213]]\n",
      "Training Accuracy: 0.9514084507042253\n",
      "Testing Accuracy: 0.919831223628692\n",
      "\n",
      "\n"
     ]
    }
   ],
   "source": [
    "from sklearn.ensemble import RandomForestClassifier\n",
    "rfc = mymodel(RandomForestClassifier(n_estimators = 80, max_depth = 10, min_samples_leaf = 12))"
   ]
  },
  {
   "cell_type": "markdown",
   "id": "e22a9003",
   "metadata": {},
   "source": [
    "### 7. Using Artifical Neural Network (ANN)"
   ]
  },
  {
   "cell_type": "code",
   "execution_count": 103,
   "id": "c30a0d4d",
   "metadata": {},
   "outputs": [
    {
     "data": {
      "text/plain": [
       "'2.11.0'"
      ]
     },
     "execution_count": 103,
     "metadata": {},
     "output_type": "execute_result"
    }
   ],
   "source": [
    "import tensorflow as tf\n",
    "tf.__version__"
   ]
  },
  {
   "cell_type": "markdown",
   "id": "0ca6b9d2",
   "metadata": {},
   "source": [
    "##### Initialising the ANN"
   ]
  },
  {
   "cell_type": "code",
   "execution_count": 104,
   "id": "42da4310",
   "metadata": {},
   "outputs": [],
   "source": [
    "ann = tf.keras.models.Sequential()"
   ]
  },
  {
   "cell_type": "markdown",
   "id": "ccecba1f",
   "metadata": {},
   "source": [
    "##### Adding the first input layer and first hidden layer"
   ]
  },
  {
   "cell_type": "code",
   "execution_count": 105,
   "id": "a46cbc9d",
   "metadata": {},
   "outputs": [],
   "source": [
    "ann.add(tf.keras.layers.Dense(units=6, activation='relu'))"
   ]
  },
  {
   "cell_type": "markdown",
   "id": "2a71eb52",
   "metadata": {},
   "source": [
    "##### Creating a second hidden layer"
   ]
  },
  {
   "cell_type": "code",
   "execution_count": 106,
   "id": "91d75ddf",
   "metadata": {},
   "outputs": [],
   "source": [
    "ann.add(tf.keras.layers.Dense(units=6, activation='relu'))"
   ]
  },
  {
   "cell_type": "markdown",
   "id": "b28e8bf0",
   "metadata": {},
   "source": [
    "##### Adding the output layer"
   ]
  },
  {
   "cell_type": "code",
   "execution_count": 107,
   "id": "b558ca4c",
   "metadata": {},
   "outputs": [],
   "source": [
    "ann.add(tf.keras.layers.Dense(units=1, activation='sigmoid'))"
   ]
  },
  {
   "cell_type": "markdown",
   "id": "f622a233",
   "metadata": {},
   "source": [
    "##### Compiling the model"
   ]
  },
  {
   "cell_type": "code",
   "execution_count": 108,
   "id": "46ccb86b",
   "metadata": {},
   "outputs": [],
   "source": [
    "ann.compile(optimizer='adam', loss='binary_crossentropy',metrics=['accuracy'])"
   ]
  },
  {
   "cell_type": "markdown",
   "id": "3467b28c",
   "metadata": {},
   "source": [
    "##### Training the model"
   ]
  },
  {
   "cell_type": "code",
   "execution_count": 109,
   "id": "31f9cc2e",
   "metadata": {
    "scrolled": false
   },
   "outputs": [
    {
     "name": "stdout",
     "output_type": "stream",
     "text": [
      "Epoch 1/100\n",
      "45/45 [==============================] - 1s 1ms/step - loss: 0.6584 - accuracy: 0.5930\n",
      "Epoch 2/100\n",
      "45/45 [==============================] - 0s 1ms/step - loss: 0.6168 - accuracy: 0.6739\n",
      "Epoch 3/100\n",
      "45/45 [==============================] - 0s 931us/step - loss: 0.5748 - accuracy: 0.7324\n",
      "Epoch 4/100\n",
      "45/45 [==============================] - 0s 916us/step - loss: 0.5269 - accuracy: 0.7852\n",
      "Epoch 5/100\n",
      "45/45 [==============================] - 0s 944us/step - loss: 0.4783 - accuracy: 0.8092\n",
      "Epoch 6/100\n",
      "45/45 [==============================] - 0s 1ms/step - loss: 0.4281 - accuracy: 0.8401\n",
      "Epoch 7/100\n",
      "45/45 [==============================] - 0s 2ms/step - loss: 0.3836 - accuracy: 0.8577\n",
      "Epoch 8/100\n",
      "45/45 [==============================] - 0s 1ms/step - loss: 0.3474 - accuracy: 0.8746\n",
      "Epoch 9/100\n",
      "45/45 [==============================] - 0s 1ms/step - loss: 0.3195 - accuracy: 0.8852\n",
      "Epoch 10/100\n",
      "45/45 [==============================] - 0s 935us/step - loss: 0.2990 - accuracy: 0.8958\n",
      "Epoch 11/100\n",
      "45/45 [==============================] - 0s 812us/step - loss: 0.2832 - accuracy: 0.8979\n",
      "Epoch 12/100\n",
      "45/45 [==============================] - 0s 917us/step - loss: 0.2711 - accuracy: 0.9056\n",
      "Epoch 13/100\n",
      "45/45 [==============================] - 0s 705us/step - loss: 0.2612 - accuracy: 0.9099\n",
      "Epoch 14/100\n",
      "45/45 [==============================] - 0s 789us/step - loss: 0.2535 - accuracy: 0.9134\n",
      "Epoch 15/100\n",
      "45/45 [==============================] - 0s 818us/step - loss: 0.2465 - accuracy: 0.9169\n",
      "Epoch 16/100\n",
      "45/45 [==============================] - 0s 714us/step - loss: 0.2405 - accuracy: 0.9169\n",
      "Epoch 17/100\n",
      "45/45 [==============================] - 0s 709us/step - loss: 0.2355 - accuracy: 0.9190\n",
      "Epoch 18/100\n",
      "45/45 [==============================] - 0s 900us/step - loss: 0.2307 - accuracy: 0.9218\n",
      "Epoch 19/100\n",
      "45/45 [==============================] - 0s 785us/step - loss: 0.2263 - accuracy: 0.9211\n",
      "Epoch 20/100\n",
      "45/45 [==============================] - 0s 855us/step - loss: 0.2217 - accuracy: 0.9225\n",
      "Epoch 21/100\n",
      "45/45 [==============================] - 0s 760us/step - loss: 0.2169 - accuracy: 0.9218\n",
      "Epoch 22/100\n",
      "45/45 [==============================] - 0s 872us/step - loss: 0.2124 - accuracy: 0.9239\n",
      "Epoch 23/100\n",
      "45/45 [==============================] - 0s 777us/step - loss: 0.2079 - accuracy: 0.9254\n",
      "Epoch 24/100\n",
      "45/45 [==============================] - 0s 723us/step - loss: 0.2041 - accuracy: 0.9282\n",
      "Epoch 25/100\n",
      "45/45 [==============================] - 0s 987us/step - loss: 0.2004 - accuracy: 0.9289\n",
      "Epoch 26/100\n",
      "45/45 [==============================] - 0s 773us/step - loss: 0.1969 - accuracy: 0.9282\n",
      "Epoch 27/100\n",
      "45/45 [==============================] - 0s 728us/step - loss: 0.1940 - accuracy: 0.9303\n",
      "Epoch 28/100\n",
      "45/45 [==============================] - 0s 704us/step - loss: 0.1910 - accuracy: 0.9317\n",
      "Epoch 29/100\n",
      "45/45 [==============================] - 0s 800us/step - loss: 0.1876 - accuracy: 0.9310\n",
      "Epoch 30/100\n",
      "45/45 [==============================] - 0s 879us/step - loss: 0.1849 - accuracy: 0.9331\n",
      "Epoch 31/100\n",
      "45/45 [==============================] - 0s 848us/step - loss: 0.1820 - accuracy: 0.9331\n",
      "Epoch 32/100\n",
      "45/45 [==============================] - 0s 812us/step - loss: 0.1798 - accuracy: 0.9331\n",
      "Epoch 33/100\n",
      "45/45 [==============================] - 0s 702us/step - loss: 0.1773 - accuracy: 0.9352\n",
      "Epoch 34/100\n",
      "45/45 [==============================] - 0s 810us/step - loss: 0.1745 - accuracy: 0.9387\n",
      "Epoch 35/100\n",
      "45/45 [==============================] - 0s 739us/step - loss: 0.1726 - accuracy: 0.9394\n",
      "Epoch 36/100\n",
      "45/45 [==============================] - 0s 882us/step - loss: 0.1706 - accuracy: 0.9387\n",
      "Epoch 37/100\n",
      "45/45 [==============================] - 0s 831us/step - loss: 0.1683 - accuracy: 0.9423\n",
      "Epoch 38/100\n",
      "45/45 [==============================] - 0s 1ms/step - loss: 0.1662 - accuracy: 0.9423\n",
      "Epoch 39/100\n",
      "45/45 [==============================] - 0s 944us/step - loss: 0.1638 - accuracy: 0.9423\n",
      "Epoch 40/100\n",
      "45/45 [==============================] - 0s 954us/step - loss: 0.1615 - accuracy: 0.9444\n",
      "Epoch 41/100\n",
      "45/45 [==============================] - 0s 1ms/step - loss: 0.1595 - accuracy: 0.9437\n",
      "Epoch 42/100\n",
      "45/45 [==============================] - 0s 1ms/step - loss: 0.1572 - accuracy: 0.9472\n",
      "Epoch 43/100\n",
      "45/45 [==============================] - 0s 1ms/step - loss: 0.1552 - accuracy: 0.9479\n",
      "Epoch 44/100\n",
      "45/45 [==============================] - 0s 879us/step - loss: 0.1532 - accuracy: 0.9472\n",
      "Epoch 45/100\n",
      "45/45 [==============================] - 0s 750us/step - loss: 0.1518 - accuracy: 0.9493\n",
      "Epoch 46/100\n",
      "45/45 [==============================] - 0s 844us/step - loss: 0.1495 - accuracy: 0.9486\n",
      "Epoch 47/100\n",
      "45/45 [==============================] - 0s 771us/step - loss: 0.1474 - accuracy: 0.9479\n",
      "Epoch 48/100\n",
      "45/45 [==============================] - 0s 857us/step - loss: 0.1461 - accuracy: 0.9493\n",
      "Epoch 49/100\n",
      "45/45 [==============================] - 0s 787us/step - loss: 0.1443 - accuracy: 0.9465\n",
      "Epoch 50/100\n",
      "45/45 [==============================] - 0s 1ms/step - loss: 0.1425 - accuracy: 0.9500\n",
      "Epoch 51/100\n",
      "45/45 [==============================] - 0s 789us/step - loss: 0.1414 - accuracy: 0.9493\n",
      "Epoch 52/100\n",
      "45/45 [==============================] - 0s 956us/step - loss: 0.1392 - accuracy: 0.9500\n",
      "Epoch 53/100\n",
      "45/45 [==============================] - 0s 1ms/step - loss: 0.1381 - accuracy: 0.9514\n",
      "Epoch 54/100\n",
      "45/45 [==============================] - 0s 986us/step - loss: 0.1361 - accuracy: 0.9521\n",
      "Epoch 55/100\n",
      "45/45 [==============================] - 0s 695us/step - loss: 0.1351 - accuracy: 0.9507\n",
      "Epoch 56/100\n",
      "45/45 [==============================] - 0s 681us/step - loss: 0.1334 - accuracy: 0.9528\n",
      "Epoch 57/100\n",
      "45/45 [==============================] - 0s 697us/step - loss: 0.1323 - accuracy: 0.9528\n",
      "Epoch 58/100\n",
      "45/45 [==============================] - 0s 683us/step - loss: 0.1306 - accuracy: 0.9528\n",
      "Epoch 59/100\n",
      "45/45 [==============================] - 0s 655us/step - loss: 0.1292 - accuracy: 0.9542\n",
      "Epoch 60/100\n",
      "45/45 [==============================] - 0s 734us/step - loss: 0.1276 - accuracy: 0.9556\n",
      "Epoch 61/100\n",
      "45/45 [==============================] - 0s 800us/step - loss: 0.1259 - accuracy: 0.9542\n",
      "Epoch 62/100\n",
      "45/45 [==============================] - 0s 805us/step - loss: 0.1252 - accuracy: 0.9556\n",
      "Epoch 63/100\n",
      "45/45 [==============================] - 0s 804us/step - loss: 0.1233 - accuracy: 0.9570\n",
      "Epoch 64/100\n",
      "45/45 [==============================] - 0s 774us/step - loss: 0.1225 - accuracy: 0.9563\n",
      "Epoch 65/100\n",
      "45/45 [==============================] - 0s 632us/step - loss: 0.1210 - accuracy: 0.9585\n",
      "Epoch 66/100\n",
      "45/45 [==============================] - 0s 739us/step - loss: 0.1204 - accuracy: 0.9592\n",
      "Epoch 67/100\n",
      "45/45 [==============================] - 0s 843us/step - loss: 0.1183 - accuracy: 0.9592\n",
      "Epoch 68/100\n",
      "45/45 [==============================] - 0s 736us/step - loss: 0.1175 - accuracy: 0.9585\n",
      "Epoch 69/100\n",
      "45/45 [==============================] - 0s 891us/step - loss: 0.1159 - accuracy: 0.9577\n",
      "Epoch 70/100\n",
      "45/45 [==============================] - 0s 699us/step - loss: 0.1147 - accuracy: 0.9599\n",
      "Epoch 71/100\n",
      "45/45 [==============================] - 0s 698us/step - loss: 0.1131 - accuracy: 0.9606\n",
      "Epoch 72/100\n",
      "45/45 [==============================] - 0s 694us/step - loss: 0.1120 - accuracy: 0.9613\n",
      "Epoch 73/100\n",
      "45/45 [==============================] - 0s 940us/step - loss: 0.1110 - accuracy: 0.9613\n",
      "Epoch 74/100\n",
      "45/45 [==============================] - 0s 630us/step - loss: 0.1097 - accuracy: 0.9613\n",
      "Epoch 75/100\n",
      "45/45 [==============================] - 0s 810us/step - loss: 0.1083 - accuracy: 0.9606\n",
      "Epoch 76/100\n",
      "45/45 [==============================] - 0s 826us/step - loss: 0.1073 - accuracy: 0.9648\n",
      "Epoch 77/100\n",
      "45/45 [==============================] - 0s 940us/step - loss: 0.1062 - accuracy: 0.9641\n",
      "Epoch 78/100\n",
      "45/45 [==============================] - 0s 877us/step - loss: 0.1049 - accuracy: 0.9655\n",
      "Epoch 79/100\n",
      "45/45 [==============================] - 0s 808us/step - loss: 0.1043 - accuracy: 0.9641\n",
      "Epoch 80/100\n",
      "45/45 [==============================] - 0s 836us/step - loss: 0.1032 - accuracy: 0.9655\n",
      "Epoch 81/100\n",
      "45/45 [==============================] - 0s 903us/step - loss: 0.1018 - accuracy: 0.9669\n",
      "Epoch 82/100\n",
      "45/45 [==============================] - 0s 880us/step - loss: 0.1008 - accuracy: 0.9669\n",
      "Epoch 83/100\n",
      "45/45 [==============================] - 0s 710us/step - loss: 0.0995 - accuracy: 0.9662\n",
      "Epoch 84/100\n",
      "45/45 [==============================] - 0s 720us/step - loss: 0.0991 - accuracy: 0.9662\n",
      "Epoch 85/100\n",
      "45/45 [==============================] - 0s 742us/step - loss: 0.0979 - accuracy: 0.9662\n",
      "Epoch 86/100\n",
      "45/45 [==============================] - 0s 698us/step - loss: 0.0969 - accuracy: 0.9669\n",
      "Epoch 87/100\n",
      "45/45 [==============================] - 0s 700us/step - loss: 0.0959 - accuracy: 0.9669\n",
      "Epoch 88/100\n",
      "45/45 [==============================] - 0s 751us/step - loss: 0.0952 - accuracy: 0.9669\n",
      "Epoch 89/100\n",
      "45/45 [==============================] - 0s 749us/step - loss: 0.0944 - accuracy: 0.9676\n",
      "Epoch 90/100\n",
      "45/45 [==============================] - 0s 710us/step - loss: 0.0932 - accuracy: 0.9690\n",
      "Epoch 91/100\n",
      "45/45 [==============================] - 0s 708us/step - loss: 0.0929 - accuracy: 0.9676\n",
      "Epoch 92/100\n",
      "45/45 [==============================] - 0s 718us/step - loss: 0.0922 - accuracy: 0.9683\n",
      "Epoch 93/100\n",
      "45/45 [==============================] - 0s 722us/step - loss: 0.0913 - accuracy: 0.9683\n",
      "Epoch 94/100\n",
      "45/45 [==============================] - 0s 705us/step - loss: 0.0904 - accuracy: 0.9683\n",
      "Epoch 95/100\n",
      "45/45 [==============================] - 0s 847us/step - loss: 0.0895 - accuracy: 0.9690\n",
      "Epoch 96/100\n",
      "45/45 [==============================] - 0s 684us/step - loss: 0.0890 - accuracy: 0.9697\n",
      "Epoch 97/100\n",
      "45/45 [==============================] - 0s 720us/step - loss: 0.0883 - accuracy: 0.9683\n",
      "Epoch 98/100\n",
      "45/45 [==============================] - 0s 892us/step - loss: 0.0875 - accuracy: 0.9711\n",
      "Epoch 99/100\n",
      "45/45 [==============================] - 0s 673us/step - loss: 0.0867 - accuracy: 0.9690\n",
      "Epoch 100/100\n",
      "45/45 [==============================] - 0s 843us/step - loss: 0.0865 - accuracy: 0.9690\n"
     ]
    },
    {
     "data": {
      "text/plain": [
       "<keras.callbacks.History at 0x162e430a580>"
      ]
     },
     "execution_count": 109,
     "metadata": {},
     "output_type": "execute_result"
    }
   ],
   "source": [
    "ann.fit(xtrain,ytrain, batch_size =32, epochs =100)"
   ]
  },
  {
   "cell_type": "markdown",
   "id": "9deb77f9",
   "metadata": {},
   "source": [
    "##### Predicting the test set result"
   ]
  },
  {
   "cell_type": "code",
   "execution_count": 110,
   "id": "b38d8f76",
   "metadata": {
    "scrolled": false
   },
   "outputs": [
    {
     "name": "stdout",
     "output_type": "stream",
     "text": [
      "15/15 [==============================] - 0s 992us/step\n",
      "[[0 0]\n",
      " [0 0]\n",
      " [1 0]\n",
      " [1 1]\n",
      " [0 0]\n",
      " [1 1]\n",
      " [1 1]\n",
      " [1 1]\n",
      " [1 1]\n",
      " [1 1]\n",
      " [0 0]\n",
      " [1 1]\n",
      " [0 0]\n",
      " [0 0]\n",
      " [1 1]\n",
      " [0 0]\n",
      " [1 1]\n",
      " [1 1]\n",
      " [0 0]\n",
      " [0 0]\n",
      " [0 0]\n",
      " [1 1]\n",
      " [0 0]\n",
      " [0 0]\n",
      " [0 0]\n",
      " [1 1]\n",
      " [1 1]\n",
      " [1 1]\n",
      " [0 0]\n",
      " [0 0]\n",
      " [0 0]\n",
      " [0 0]\n",
      " [0 0]\n",
      " [0 0]\n",
      " [1 1]\n",
      " [0 0]\n",
      " [1 1]\n",
      " [0 0]\n",
      " [0 0]\n",
      " [0 0]\n",
      " [1 1]\n",
      " [1 1]\n",
      " [0 0]\n",
      " [0 0]\n",
      " [0 0]\n",
      " [1 1]\n",
      " [1 1]\n",
      " [1 1]\n",
      " [1 1]\n",
      " [0 0]\n",
      " [1 1]\n",
      " [0 0]\n",
      " [1 1]\n",
      " [1 1]\n",
      " [1 0]\n",
      " [1 1]\n",
      " [0 0]\n",
      " [1 1]\n",
      " [1 1]\n",
      " [0 1]\n",
      " [1 1]\n",
      " [1 1]\n",
      " [1 1]\n",
      " [0 0]\n",
      " [1 1]\n",
      " [1 1]\n",
      " [0 0]\n",
      " [1 1]\n",
      " [0 0]\n",
      " [0 0]\n",
      " [1 1]\n",
      " [0 0]\n",
      " [0 0]\n",
      " [1 1]\n",
      " [0 0]\n",
      " [1 1]\n",
      " [1 1]\n",
      " [1 1]\n",
      " [1 1]\n",
      " [1 1]\n",
      " [0 0]\n",
      " [1 1]\n",
      " [0 0]\n",
      " [1 1]\n",
      " [0 0]\n",
      " [0 0]\n",
      " [1 1]\n",
      " [0 1]\n",
      " [1 1]\n",
      " [1 1]\n",
      " [1 1]\n",
      " [0 0]\n",
      " [0 0]\n",
      " [1 1]\n",
      " [1 1]\n",
      " [1 1]\n",
      " [1 1]\n",
      " [1 1]\n",
      " [0 0]\n",
      " [1 1]\n",
      " [0 0]\n",
      " [0 0]\n",
      " [0 0]\n",
      " [1 1]\n",
      " [1 1]\n",
      " [1 1]\n",
      " [1 0]\n",
      " [0 0]\n",
      " [0 1]\n",
      " [1 1]\n",
      " [1 1]\n",
      " [1 1]\n",
      " [0 0]\n",
      " [0 0]\n",
      " [0 0]\n",
      " [1 1]\n",
      " [1 1]\n",
      " [0 0]\n",
      " [0 0]\n",
      " [0 0]\n",
      " [0 0]\n",
      " [0 0]\n",
      " [0 0]\n",
      " [0 0]\n",
      " [0 0]\n",
      " [0 0]\n",
      " [0 0]\n",
      " [0 0]\n",
      " [0 0]\n",
      " [1 1]\n",
      " [1 1]\n",
      " [0 0]\n",
      " [1 1]\n",
      " [1 1]\n",
      " [1 0]\n",
      " [0 0]\n",
      " [0 0]\n",
      " [0 0]\n",
      " [1 1]\n",
      " [1 1]\n",
      " [0 0]\n",
      " [0 0]\n",
      " [0 0]\n",
      " [0 0]\n",
      " [0 0]\n",
      " [1 1]\n",
      " [1 1]\n",
      " [0 0]\n",
      " [0 0]\n",
      " [1 1]\n",
      " [1 1]\n",
      " [1 1]\n",
      " [1 1]\n",
      " [1 1]\n",
      " [1 1]\n",
      " [0 0]\n",
      " [1 1]\n",
      " [1 0]\n",
      " [1 1]\n",
      " [1 1]\n",
      " [0 0]\n",
      " [0 0]\n",
      " [1 1]\n",
      " [1 1]\n",
      " [1 1]\n",
      " [1 1]\n",
      " [0 0]\n",
      " [1 1]\n",
      " [0 0]\n",
      " [1 1]\n",
      " [1 1]\n",
      " [1 1]\n",
      " [0 0]\n",
      " [1 1]\n",
      " [1 1]\n",
      " [1 1]\n",
      " [1 1]\n",
      " [0 0]\n",
      " [1 1]\n",
      " [1 1]\n",
      " [0 0]\n",
      " [1 1]\n",
      " [0 0]\n",
      " [1 1]\n",
      " [1 1]\n",
      " [1 1]\n",
      " [1 1]\n",
      " [0 0]\n",
      " [0 0]\n",
      " [0 0]\n",
      " [1 1]\n",
      " [1 1]\n",
      " [1 1]\n",
      " [0 0]\n",
      " [1 1]\n",
      " [0 0]\n",
      " [0 0]\n",
      " [0 0]\n",
      " [0 0]\n",
      " [1 1]\n",
      " [1 1]\n",
      " [1 1]\n",
      " [1 1]\n",
      " [0 0]\n",
      " [1 1]\n",
      " [1 1]\n",
      " [0 0]\n",
      " [0 0]\n",
      " [0 0]\n",
      " [1 1]\n",
      " [0 1]\n",
      " [0 0]\n",
      " [1 1]\n",
      " [0 0]\n",
      " [1 1]\n",
      " [0 0]\n",
      " [1 1]\n",
      " [1 1]\n",
      " [0 0]\n",
      " [1 1]\n",
      " [1 1]\n",
      " [0 0]\n",
      " [0 0]\n",
      " [0 0]\n",
      " [0 0]\n",
      " [0 0]\n",
      " [1 1]\n",
      " [0 0]\n",
      " [1 1]\n",
      " [1 1]\n",
      " [1 1]\n",
      " [0 0]\n",
      " [0 0]\n",
      " [1 1]\n",
      " [0 0]\n",
      " [1 1]\n",
      " [1 1]\n",
      " [1 1]\n",
      " [0 0]\n",
      " [1 1]\n",
      " [0 0]\n",
      " [1 1]\n",
      " [0 0]\n",
      " [0 0]\n",
      " [1 1]\n",
      " [0 0]\n",
      " [0 0]\n",
      " [0 0]\n",
      " [1 1]\n",
      " [1 1]\n",
      " [0 0]\n",
      " [0 0]\n",
      " [1 0]\n",
      " [1 1]\n",
      " [0 0]\n",
      " [0 0]\n",
      " [0 0]\n",
      " [0 0]\n",
      " [0 0]\n",
      " [1 1]\n",
      " [1 1]\n",
      " [0 0]\n",
      " [1 0]\n",
      " [1 1]\n",
      " [0 0]\n",
      " [1 1]\n",
      " [1 1]\n",
      " [1 1]\n",
      " [0 0]\n",
      " [1 1]\n",
      " [1 1]\n",
      " [0 0]\n",
      " [1 1]\n",
      " [1 1]\n",
      " [1 1]\n",
      " [1 1]\n",
      " [0 0]\n",
      " [0 0]\n",
      " [1 1]\n",
      " [1 1]\n",
      " [1 1]\n",
      " [1 1]\n",
      " [0 0]\n",
      " [0 0]\n",
      " [0 0]\n",
      " [1 1]\n",
      " [1 1]\n",
      " [0 0]\n",
      " [1 1]\n",
      " [0 0]\n",
      " [1 1]\n",
      " [0 0]\n",
      " [0 0]\n",
      " [0 0]\n",
      " [0 0]\n",
      " [0 0]\n",
      " [0 0]\n",
      " [1 1]\n",
      " [0 0]\n",
      " [0 0]\n",
      " [0 0]\n",
      " [1 1]\n",
      " [0 0]\n",
      " [0 0]\n",
      " [1 1]\n",
      " [1 1]\n",
      " [1 1]\n",
      " [0 0]\n",
      " [1 1]\n",
      " [1 0]\n",
      " [0 0]\n",
      " [1 1]\n",
      " [0 0]\n",
      " [1 1]\n",
      " [1 1]\n",
      " [1 1]\n",
      " [0 0]\n",
      " [0 0]\n",
      " [1 1]\n",
      " [0 0]\n",
      " [0 0]\n",
      " [1 1]\n",
      " [0 0]\n",
      " [1 1]\n",
      " [0 0]\n",
      " [0 0]\n",
      " [1 1]\n",
      " [0 0]\n",
      " [1 1]\n",
      " [1 1]\n",
      " [1 1]\n",
      " [1 1]\n",
      " [1 1]\n",
      " [0 0]\n",
      " [0 0]\n",
      " [1 0]\n",
      " [0 0]\n",
      " [0 1]\n",
      " [0 0]\n",
      " [1 1]\n",
      " [1 1]\n",
      " [0 0]\n",
      " [1 1]\n",
      " [0 0]\n",
      " [0 0]\n",
      " [0 0]\n",
      " [1 1]\n",
      " [0 1]\n",
      " [0 0]\n",
      " [1 1]\n",
      " [1 1]\n",
      " [1 1]\n",
      " [1 1]\n",
      " [0 0]\n",
      " [1 0]\n",
      " [0 0]\n",
      " [0 0]\n",
      " [1 1]\n",
      " [1 1]\n",
      " [0 0]\n",
      " [0 0]\n",
      " [1 1]\n",
      " [0 0]\n",
      " [1 1]\n",
      " [1 1]\n",
      " [0 0]\n",
      " [1 1]\n",
      " [0 0]\n",
      " [1 1]\n",
      " [0 0]\n",
      " [0 0]\n",
      " [0 0]\n",
      " [0 0]\n",
      " [0 0]\n",
      " [1 1]\n",
      " [0 0]\n",
      " [1 1]\n",
      " [1 1]\n",
      " [0 0]\n",
      " [1 1]\n",
      " [1 1]\n",
      " [0 0]\n",
      " [1 1]\n",
      " [0 0]\n",
      " [0 0]\n",
      " [0 0]\n",
      " [1 1]\n",
      " [1 1]\n",
      " [0 0]\n",
      " [0 0]\n",
      " [1 1]\n",
      " [1 1]\n",
      " [1 1]\n",
      " [1 1]\n",
      " [0 0]\n",
      " [1 1]\n",
      " [0 0]\n",
      " [1 1]\n",
      " [1 1]\n",
      " [1 1]\n",
      " [1 1]\n",
      " [0 0]\n",
      " [0 0]\n",
      " [0 0]\n",
      " [1 1]\n",
      " [1 1]\n",
      " [1 1]\n",
      " [1 0]\n",
      " [1 1]\n",
      " [1 0]\n",
      " [1 1]\n",
      " [1 1]\n",
      " [1 1]\n",
      " [0 0]\n",
      " [1 1]\n",
      " [1 0]\n",
      " [1 1]\n",
      " [0 0]\n",
      " [0 0]\n",
      " [0 0]\n",
      " [1 0]\n",
      " [0 0]\n",
      " [1 1]\n",
      " [0 0]\n",
      " [1 1]\n",
      " [1 1]\n",
      " [0 0]\n",
      " [1 1]\n",
      " [1 1]\n",
      " [1 1]\n",
      " [0 0]\n",
      " [1 1]\n",
      " [0 0]\n",
      " [0 0]\n",
      " [1 1]\n",
      " [0 0]\n",
      " [0 0]\n",
      " [1 1]\n",
      " [1 1]\n",
      " [1 1]\n",
      " [1 1]\n",
      " [0 0]\n",
      " [1 1]\n",
      " [0 0]\n",
      " [1 1]\n",
      " [0 0]\n",
      " [1 1]\n",
      " [0 0]\n",
      " [1 1]\n",
      " [0 0]\n",
      " [0 0]\n",
      " [0 0]\n",
      " [1 1]\n",
      " [0 0]\n",
      " [0 0]\n",
      " [1 1]\n",
      " [0 0]\n",
      " [0 0]\n",
      " [0 0]\n",
      " [0 0]\n",
      " [0 0]\n",
      " [0 0]\n",
      " [1 1]\n",
      " [0 0]\n",
      " [0 0]\n",
      " [1 1]\n",
      " [1 1]\n",
      " [0 0]\n",
      " [0 0]\n",
      " [0 0]\n",
      " [0 0]\n",
      " [0 0]\n",
      " [1 1]\n",
      " [1 1]]\n"
     ]
    }
   ],
   "source": [
    "y_pred = ann.predict(xtest)\n",
    "y_pred = (y_pred > 0.5)\n",
    "print(np.concatenate((y_pred.reshape(len(y_pred),1),ytest.reshape(len(ytest),1)),1))"
   ]
  },
  {
   "cell_type": "markdown",
   "id": "3f29f6fc",
   "metadata": {},
   "source": [
    "##### Making the confusion matrix and accuracy score"
   ]
  },
  {
   "cell_type": "code",
   "execution_count": 111,
   "id": "e788c7fd",
   "metadata": {},
   "outputs": [
    {
     "name": "stdout",
     "output_type": "stream",
     "text": [
      "[[223  14]\n",
      " [  6 231]]\n"
     ]
    },
    {
     "data": {
      "text/plain": [
       "0.9578059071729957"
      ]
     },
     "execution_count": 111,
     "metadata": {},
     "output_type": "execute_result"
    }
   ],
   "source": [
    "from sklearn.metrics import confusion_matrix, accuracy_score\n",
    "cm = confusion_matrix(ytest, y_pred)\n",
    "print(cm)\n",
    "accuracy_score(ytest, y_pred)"
   ]
  },
  {
   "cell_type": "markdown",
   "id": "6e26e75e",
   "metadata": {},
   "source": [
    "##### 1. K-Nearest Neighbors (KNN):\n",
    "\n",
    "\n",
    "- Accuracy: 0.886\n",
    "- This model achieves a relatively high accuracy of 0.886. It performs well in terms of precision, recall, and F1-score for both classes (0 and 1). The model has a higher precision for class 1, indicating that it correctly identifies most positive cases. However, it has a lower recall for class 0, suggesting that it may misclassify some negative cases as positive. The confusion matrix shows that it misclassified 54 instances of class 0 as class 1.\n",
    "\n",
    "\n",
    "##### 2. Support Vector Machine (SVM):\n",
    "\n",
    "- Accuracy: 0.985\n",
    "- The SVM model achieves an impressive accuracy of 0.985. It demonstrates high precision, recall, and F1-score for both classes, indicating a balanced performance. The confusion matrix shows only 7 misclassifications between the two classes. The model performs well in correctly identifying both positive and negative cases.\n",
    "\n",
    "##### 3. Decision Tree:\n",
    "- Accuracy: 0.939\n",
    "- The Decision Tree model achieves a decent accuracy of 0.939. It shows good precision, recall, and F1-score for both classes, indicating balanced performance. The confusion matrix shows 18 misclassifications, mainly from class 0 to class 1. Overall, the model performs well in classifying instances from both classes.\n",
    "\n",
    "##### 4. Logistic Regression:\n",
    "- Accuracy: 0.890\n",
    "- The Logistic Regression model achieves an accuracy of 0.890. It demonstrates good precision, recall, and F1-score for both classes, indicating balanced performance. However, it has a slightly lower precision and recall compared to other models. The confusion matrix shows 30 instances misclassified between the two classes.\n",
    "\n",
    "##### 5. Gaussian Naïve Bayes:\n",
    "- Accuracy: 0.892\n",
    "- The Gaussian Naïve Bayes model achieves an accuracy of 0.892. It demonstrates good precision, recall, and F1-score for both classes, indicating balanced performance. The confusion matrix shows 36 instances misclassified between the two classes.\n",
    "\n",
    "##### 6. Random Forest:\n",
    "- Accuracy: 0.920\n",
    "- The Random Forest model achieves a decent accuracy of 0.920. It shows good precision, recall, and F1-score for both classes, indicating balanced performance. The confusion matrix shows 14 instances misclassified between the two classes. Overall, the model performs well in classifying instances from both classes.\n",
    "\n",
    "###### Overall, the SVM model stands out with the highest accuracy of 0.985 and performs well in terms of precision, recall, and F1-score for both classes. The Decision Tree, Random Forest, and Gaussian Naïve Bayes models also show good performance."
   ]
  }
 ],
 "metadata": {
  "kernelspec": {
   "display_name": "Python 3 (ipykernel)",
   "language": "python",
   "name": "python3"
  },
  "language_info": {
   "codemirror_mode": {
    "name": "ipython",
    "version": 3
   },
   "file_extension": ".py",
   "mimetype": "text/x-python",
   "name": "python",
   "nbconvert_exporter": "python",
   "pygments_lexer": "ipython3",
   "version": "3.9.12"
  }
 },
 "nbformat": 4,
 "nbformat_minor": 5
}
